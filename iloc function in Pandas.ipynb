{
 "cells": [
  {
   "cell_type": "code",
   "execution_count": 39,
   "id": "6b2cffa5-7f0a-48fb-9928-4669db2c4afe",
   "metadata": {},
   "outputs": [
    {
     "name": "stdout",
     "output_type": "stream",
     "text": [
      "Requirement already satisfied: python-docx in c:\\users\\himan\\anaconda3\\lib\\site-packages (1.1.2)\n",
      "Requirement already satisfied: lxml>=3.1.0 in c:\\users\\himan\\anaconda3\\lib\\site-packages (from python-docx) (5.2.1)\n",
      "Requirement already satisfied: typing-extensions>=4.9.0 in c:\\users\\himan\\anaconda3\\lib\\site-packages (from python-docx) (4.11.0)\n"
     ]
    }
   ],
   "source": [
    "!pip install python-docx"
   ]
  },
  {
   "cell_type": "code",
   "execution_count": 40,
   "id": "e426a586-6c5e-461b-b332-c070134245d9",
   "metadata": {},
   "outputs": [
    {
     "name": "stdout",
     "output_type": "stream",
     "text": [
      "      Name  Age         City\n",
      "0    Alice   25     New York\n",
      "1      Bob   30  Los Angeles\n",
      "2  Charlie   35      Chicago\n",
      "3    David   40      Houston\n",
      "4      Eva   45      Phoenix\n"
     ]
    }
   ],
   "source": [
    "import pandas as pd\n",
    "\n",
    "data = {\n",
    "    'Name': ['Alice', 'Bob', 'Charlie', 'David', 'Eva'],\n",
    "    'Age': [25, 30, 35, 40, 45],\n",
    "    'City': ['New York', 'Los Angeles', 'Chicago', 'Houston', 'Phoenix']\n",
    "}\n",
    "\n",
    "df = pd.DataFrame(data)\n",
    "print(df)\n"
   ]
  },
  {
   "cell_type": "markdown",
   "id": "7db048a3-13e5-4c0c-9fd5-e4bca49282fb",
   "metadata": {},
   "source": [
    "### 1. Select a specific row:"
   ]
  },
  {
   "cell_type": "code",
   "execution_count": 41,
   "id": "ac971303-c74c-4b85-b268-14273ac8d500",
   "metadata": {},
   "outputs": [
    {
     "name": "stdout",
     "output_type": "stream",
     "text": [
      "Name       Alice\n",
      "Age           25\n",
      "City    New York\n",
      "Name: 0, dtype: object\n"
     ]
    }
   ],
   "source": [
    "# Select the first row (index 0)\n",
    "\n",
    "row_0 = df.iloc[0]\n",
    "print(row_0)\n"
   ]
  },
  {
   "cell_type": "markdown",
   "id": "1204d987-6e51-4734-b496-5a602ba0d402",
   "metadata": {},
   "source": [
    "### 2. Select specific rows and columns:"
   ]
  },
  {
   "cell_type": "code",
   "execution_count": 42,
   "id": "dc32be9f-e4c8-4e77-a70c-4450313b1d80",
   "metadata": {},
   "outputs": [
    {
     "name": "stdout",
     "output_type": "stream",
     "text": [
      "25\n"
     ]
    }
   ],
   "source": [
    "# Select the first row and the second column (index 0 for row, index 1 for column)\n",
    "\n",
    "value = df.iloc[0, 1]\n",
    "print(value)\n"
   ]
  },
  {
   "cell_type": "markdown",
   "id": "0d6c6a58-50ba-4b9e-9c34-dcd7478b5a71",
   "metadata": {},
   "source": [
    "### 3. Select a range of rows and columns:"
   ]
  },
  {
   "cell_type": "code",
   "execution_count": 43,
   "id": "3e9b5fa5-966d-4f49-9456-159656d1f321",
   "metadata": {},
   "outputs": [
    {
     "name": "stdout",
     "output_type": "stream",
     "text": [
      "   Age         City\n",
      "0   25     New York\n",
      "1   30  Los Angeles\n"
     ]
    }
   ],
   "source": [
    "# Select rows 0 to 2 (exclusive) and columns 1 to 2 (exclusive)\n",
    "\n",
    "subset = df.iloc[0:2, 1:3]\n",
    "print(subset)\n"
   ]
  },
  {
   "cell_type": "markdown",
   "id": "ac51ffc9-bccd-49c0-8891-a62a8ed06cd4",
   "metadata": {},
   "source": [
    "### 4. Select specific rows with all columns:"
   ]
  },
  {
   "cell_type": "code",
   "execution_count": 44,
   "id": "7024c727-125a-4ac0-a136-d10731a5b4a2",
   "metadata": {},
   "outputs": [
    {
     "name": "stdout",
     "output_type": "stream",
     "text": [
      "    Name  Age         City\n",
      "1    Bob   30  Los Angeles\n",
      "3  David   40      Houston\n"
     ]
    }
   ],
   "source": [
    "# Select rows 1 and 3\n",
    "\n",
    "rows = df.iloc[[1, 3]]\n",
    "print(rows)\n"
   ]
  },
  {
   "cell_type": "raw",
   "id": "5fc01350-28eb-4fc8-a28c-a8bdf40f287b",
   "metadata": {},
   "source": [
    "Explanation:\n",
    "iloc[0]: Selects the first row.\n",
    "iloc[0, 1]: Selects the value from the first row and the second column.\n",
    "iloc[0:2, 1:3]: Selects a subset of rows and columns using slices.\n",
    "iloc[[1, 3]]: Selects multiple specific rows based on their index positions."
   ]
  },
  {
   "cell_type": "code",
   "execution_count": null,
   "id": "a097fad9-e76f-4fe1-abf2-3b2f3a625af9",
   "metadata": {},
   "outputs": [],
   "source": []
  }
 ],
 "metadata": {
  "kernelspec": {
   "display_name": "Python 3",
   "language": "python",
   "name": "python3"
  },
  "language_info": {
   "codemirror_mode": {
    "name": "ipython",
    "version": 3
   },
   "file_extension": ".py",
   "mimetype": "text/x-python",
   "name": "python",
   "nbconvert_exporter": "python",
   "pygments_lexer": "ipython3",
   "version": "3.12.3"
  }
 },
 "nbformat": 4,
 "nbformat_minor": 5
}
