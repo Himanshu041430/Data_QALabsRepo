{
 "cells": [
  {
   "cell_type": "code",
   "execution_count": 1,
   "metadata": {},
   "outputs": [
    {
     "name": "stdout",
     "output_type": "stream",
     "text": [
      "Enter your age: 20\n",
      "Select M/F: m\n",
      "Select Y/N:  y\n",
      "'He may work in anywahere\n"
     ]
    }
   ],
   "source": [
    "age = int(input('Enter your age: '))\n",
    "gender = input('Select M/F: ').upper()\n",
    "marital_status = input(\"Select Y/N:  \").upper()\n",
    "\n",
    "if gender ==\"F\":\n",
    "    print(\"he will work only in urban areas.\")\n",
    "    \n",
    "elif gender == \"M\"and age in range ( 20 , 41):\n",
    "    \n",
    "    print(\"'He may work in anywahere\")\n",
    "    \n",
    "elif gender ==\"M\"and age in range ( 40, 61):\n",
    "        \n",
    "        print(\" He will work in urban areas only.\")\n",
    "else:\n",
    "    \n",
    "    print( \"ERROR\" )\n",
    "    \n"
   ]
  },
  {
   "cell_type": "code",
   "execution_count": 2,
   "metadata": {},
   "outputs": [
    {
     "name": "stdout",
     "output_type": "stream",
     "text": [
      "enter the output:Canada\n",
      "adanaC"
     ]
    }
   ],
   "source": [
    "word = input(\"enter the output:\")\n",
    "for char in range(len(word ) - 1,-1,-1):\n",
    "    print(word[char], end = '')\n"
   ]
  },
  {
   "cell_type": "code",
   "execution_count": 4,
   "metadata": {},
   "outputs": [
    {
     "ename": "AttributeError",
     "evalue": "'int' object has no attribute 'append'",
     "output_type": "error",
     "traceback": [
      "\u001b[1;31m---------------------------------------------------------------------------\u001b[0m",
      "\u001b[1;31mAttributeError\u001b[0m                            Traceback (most recent call last)",
      "\u001b[1;32m<ipython-input-4-8093721706dd>\u001b[0m in \u001b[0;36m<module>\u001b[1;34m\u001b[0m\n\u001b[0;32m      8\u001b[0m     \u001b[1;32melse\u001b[0m\u001b[1;33m:\u001b[0m\u001b[1;33m\u001b[0m\u001b[1;33m\u001b[0m\u001b[0m\n\u001b[0;32m      9\u001b[0m         \u001b[0msum_odd\u001b[0m\u001b[1;33m+=\u001b[0m\u001b[1;36m1\u001b[0m\u001b[1;33m\u001b[0m\u001b[1;33m\u001b[0m\u001b[0m\n\u001b[1;32m---> 10\u001b[1;33m         \u001b[0msum_odd\u001b[0m\u001b[1;33m.\u001b[0m\u001b[0mappend\u001b[0m\u001b[1;33m(\u001b[0m\u001b[0msum_odd\u001b[0m\u001b[1;33m)\u001b[0m\u001b[1;33m\u001b[0m\u001b[1;33m\u001b[0m\u001b[0m\n\u001b[0m\u001b[0;32m     11\u001b[0m \u001b[1;33m\u001b[0m\u001b[0m\n\u001b[0;32m     12\u001b[0m \u001b[0mprint\u001b[0m \u001b[1;33m(\u001b[0m\u001b[0msum_even\u001b[0m\u001b[1;33m)\u001b[0m\u001b[1;33m\u001b[0m\u001b[1;33m\u001b[0m\u001b[0m\n",
      "\u001b[1;31mAttributeError\u001b[0m: 'int' object has no attribute 'append'"
     ]
    }
   ],
   "source": [
    "number = (1,2,3,4,5,6,89,45,4)\n",
    "sum_odd = 0\n",
    "sum_even = 0\n",
    "for x in number:\n",
    "    if not x%2:\n",
    "        sum_even+= 1\n",
    "        sum_even.append(sum_even)\n",
    "    else:\n",
    "        sum_odd+=1\n",
    "        sum_odd.append(sum_odd)\n",
    "        \n",
    "print (sum_even)\n",
    "print (sum_odd)"
   ]
  },
  {
   "cell_type": "code",
   "execution_count": 5,
   "metadata": {},
   "outputs": [
    {
     "name": "stdout",
     "output_type": "stream",
     "text": [
      "15\n"
     ]
    }
   ],
   "source": [
    "sum = 0\n",
    "for x in [1,2,3,4,5]:\n",
    "      sum = sum + x\n",
    "\n",
    "print(sum)"
   ]
  },
  {
   "cell_type": "code",
   "execution_count": 9,
   "metadata": {},
   "outputs": [
    {
     "name": "stdout",
     "output_type": "stream",
     "text": [
      "odd:  1\n",
      "even:  2\n",
      "odd:  3\n",
      "even:  4\n",
      "odd:  5\n",
      "even:  6\n",
      "odd:  7\n",
      "even:  8\n",
      "odd:  9\n",
      "even:  10\n"
     ]
    }
   ],
   "source": [
    "mylist = [1,2,3,4,5,6,7,8,9,10]\n",
    " \n",
    "\n",
    "for num in mylist:\n",
    "    if num % 2 == 0:\n",
    "        print(\"even: \", num)\n",
    "    else:\n",
    "        print(\"odd: \", num)"
   ]
  },
  {
   "cell_type": "code",
   "execution_count": 23,
   "metadata": {},
   "outputs": [
    {
     "name": "stdout",
     "output_type": "stream",
     "text": [
      "even:  30\n",
      "odd:  25\n"
     ]
    }
   ],
   "source": [
    "mylist = [1,2,3,4,5,6,7,8,9,10]\n",
    "\n",
    "sum_odd = 0\n",
    "sum_even = 0   \n",
    "\n",
    "for num in mylist:\n",
    "    if num % 2 == 0:\n",
    "        \n",
    "        sum_even = sum_even + num\n",
    "        \n",
    "    else:\n",
    "        sum_odd = sum_odd + num\n",
    "print(\"even: \", sum_even)        \n",
    "print(\"odd: \", sum_odd)"
   ]
  },
  {
   "cell_type": "code",
   "execution_count": 26,
   "metadata": {},
   "outputs": [
    {
     "name": "stdout",
     "output_type": "stream",
     "text": [
      "Even : 16\n",
      "Odd :  143\n"
     ]
    }
   ],
   "source": [
    "number = (1,2,3,4,5,6,89,45,4)\n",
    "sum_odd = 0\n",
    "sum_even = 0\n",
    "for x in number:\n",
    "    if not x%2:\n",
    "        sum_even+= x\n",
    "        \n",
    "        \n",
    "    else:\n",
    "        sum_odd+=x\n",
    "        \n",
    "        \n",
    "print (\"Even :\",sum_even)\n",
    "print (\"Odd : \",sum_odd)"
   ]
  },
  {
   "cell_type": "code",
   "execution_count": 39,
   "metadata": {},
   "outputs": [
    {
     "name": "stdout",
     "output_type": "stream",
     "text": [
      "Enter the number: 987654321\n",
      "123456789"
     ]
    }
   ],
   "source": [
    "num = input(\"Enter the number: \")\n",
    "\n",
    "for x in range(len(num) - 1, -1, -1):\n",
    "    print(num[x], end='')"
   ]
  },
  {
   "cell_type": "code",
   "execution_count": 42,
   "metadata": {},
   "outputs": [
    {
     "name": "stdout",
     "output_type": "stream",
     "text": [
      "   November 2007\n",
      "Mo Tu We Th Fr Sa Su\n",
      "          1  2  3  4\n",
      " 5  6  7  8  9 10 11\n",
      "12 13 14 15 16 17 18\n",
      "19 20 21 22 23 24 25\n",
      "26 27 28 29 30\n",
      "\n"
     ]
    }
   ],
   "source": [
    "import calendar\n",
    "\n",
    "print(calendar.month(2007,11))"
   ]
  },
  {
   "cell_type": "code",
   "execution_count": 44,
   "metadata": {},
   "outputs": [
    {
     "name": "stdout",
     "output_type": "stream",
     "text": [
      "6\n",
      "5\n",
      "7\n",
      "18\n"
     ]
    }
   ],
   "source": [
    "no1 = int(input())\n",
    "no2 = int(input())\n",
    "no3 = int(input())\n",
    "\n",
    "if no1==no2==no3:\n",
    "    print(3*(no1+no2+no3))\n",
    "else:\n",
    "    print(no1+no2+no3)\n",
    "    \n",
    "\n"
   ]
  },
  {
   "cell_type": "code",
   "execution_count": null,
   "metadata": {},
   "outputs": [],
   "source": []
  }
 ],
 "metadata": {
  "kernelspec": {
   "display_name": "Python 3",
   "language": "python",
   "name": "python3"
  },
  "language_info": {
   "codemirror_mode": {
    "name": "ipython",
    "version": 3
   },
   "file_extension": ".py",
   "mimetype": "text/x-python",
   "name": "python",
   "nbconvert_exporter": "python",
   "pygments_lexer": "ipython3",
   "version": "3.7.6"
  },
  "toc": {
   "base_numbering": 1,
   "nav_menu": {},
   "number_sections": true,
   "sideBar": true,
   "skip_h1_title": false,
   "title_cell": "Table of Contents",
   "title_sidebar": "Contents",
   "toc_cell": false,
   "toc_position": {},
   "toc_section_display": true,
   "toc_window_display": false
  }
 },
 "nbformat": 4,
 "nbformat_minor": 4
}
