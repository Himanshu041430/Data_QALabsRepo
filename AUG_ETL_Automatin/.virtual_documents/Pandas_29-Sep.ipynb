import pandas as pd


df = pd.read_csv("employees.csv")


df.head (5)



