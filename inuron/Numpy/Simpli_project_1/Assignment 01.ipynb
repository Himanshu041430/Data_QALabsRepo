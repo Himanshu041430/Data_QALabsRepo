{
 "cells": [
  {
   "cell_type": "markdown",
   "metadata": {},
   "source": [
    "<img src=\"http://cfs22.simplicdn.net/ice9/new_logo.svgz \"/>\n",
    "\n",
    "# Assignment 01: Evaluate the GDP Dataset\n",
    "\n",
    "*The comments/sections provided are your cues to perform the assignment. You don't need to limit yourself to the number of rows/cells provided. You can add additional rows in each section to add more lines of code.*\n",
    "\n",
    "*If at any point in time you need help on solving this assignment, view our demo video to understand the different steps of the code.*\n",
    "\n",
    "**Happy coding!**\n",
    "\n",
    "* * *"
   ]
  },
  {
   "cell_type": "markdown",
   "metadata": {},
   "source": [
    "#### 1: View and add the dataset"
   ]
  },
  {
   "cell_type": "code",
   "execution_count": 1,
   "metadata": {},
   "outputs": [],
   "source": [
    "#Import required library\n",
    "import numpy as np"
   ]
  },
  {
   "cell_type": "code",
   "execution_count": 2,
   "metadata": {},
   "outputs": [],
   "source": [
    "#Manually add the dataset\n",
    "List_of_countries = np.array(['Algeria','Angola','Argentina','Australia','Austria','Bahamas','Bangladesh','Belarus',\n",
    "                              'Belgium','Bhutan','Brazil','Bulgaria','Cambodia','Cameroon','Chile','China','Colombia',\n",
    "                              'Cyprus','Denmark','El Salvador','Estonia','Ethiopia','Fiji','Finland','France','Georgia',\n",
    "                              'Ghana','Grenada','Guinea','Haiti','Honduras','Hungary','India','Indonesia','Ireland',\n",
    "                              'Italy','Japan','Kenya', 'South Korea','Liberia','Malaysia','Mexico', 'Morocco','Nepal',\n",
    "                              'New Zealand','Norway','Pakistan', 'Peru','Qatar','Russia','Singapore','South Africa',\n",
    "                              'Spain','Sweden','Switzerland','Thailand', 'United Arab Emirates','United Kingdom',\n",
    "                              'United States','Uruguay','Venezuela','Vietnam','Zimbabwe'])\n",
    "\n",
    "gdp_values = np.array([2255.225482,629.9553062,11601.63022,25306.82494,27266.40335,19466.99052,\n",
    "                       588.3691778,2890.345675,24733.62696,1445.760002,4803.398244,2618.876037,\n",
    "                       590.4521124,665.7982328,7122.938458,2639.54156,3362.4656,15378.16704,30860.12808,\n",
    "                       2579.115607,6525.541272,229.6769525,2242.689259,27570.4852,23016.84778,1334.646773,\n",
    "                       402.6953275,6047.200797,394.1156638,385.5793827,1414.072488,5745.981529,837.7464011,\n",
    "                       1206.991065,27715.52837,18937.24998,39578.07441,478.2194906,16684.21278,279.2204061,\n",
    "                       5345.213415,6288.25324,1908.304416,274.8728621,14646.42094,40034.85063,672.1547506,\n",
    "                       3359.517402,36152.66676,3054.727742,33529.83052,3825.093781,15428.32098,33630.24604,\n",
    "                       39170.41371,2699.123242,21058.43643,28272.40661,37691.02733,9581.05659,5671.912202,\n",
    "                       757.4009286,347.7456605])"
   ]
  },
  {
   "cell_type": "markdown",
   "metadata": {
    "collapsed": true
   },
   "source": [
    "#### 2: Find and print the name of the country with the highest GDP"
   ]
  },
  {
   "cell_type": "code",
   "execution_count": 3,
   "metadata": {},
   "outputs": [],
   "source": [
    "#Use the argmax() method to find the highest GDP\n",
    "max_gdp_values = gdp_values.argmax()"
   ]
  },
  {
   "cell_type": "code",
   "execution_count": 4,
   "metadata": {},
   "outputs": [],
   "source": [
    "#Print the name of the country\n",
    "contry_with_max_gdp_values = List_of_countries[max_gdp_values]"
   ]
  },
  {
   "cell_type": "code",
   "execution_count": 5,
   "metadata": {},
   "outputs": [
    {
     "data": {
      "text/plain": [
       "'Norway'"
      ]
     },
     "execution_count": 5,
     "metadata": {},
     "output_type": "execute_result"
    }
   ],
   "source": [
    "contry_with_max_gdp_values "
   ]
  },
  {
   "cell_type": "markdown",
   "metadata": {},
   "source": [
    "#### 3: Find and print the name of the country with the lowest GDP"
   ]
  },
  {
   "cell_type": "code",
   "execution_count": 6,
   "metadata": {},
   "outputs": [],
   "source": [
    "#Use the argmin() method to find the lowest GDP\n",
    "min_gdp_values = gdp_values.argmin()"
   ]
  },
  {
   "cell_type": "code",
   "execution_count": 7,
   "metadata": {},
   "outputs": [],
   "source": [
    "#Print the name of the country\n",
    "contry_with_min_gdp_values = List_of_countries[min_gdp_values]"
   ]
  },
  {
   "cell_type": "code",
   "execution_count": 8,
   "metadata": {},
   "outputs": [
    {
     "data": {
      "text/plain": [
       "'Ethiopia'"
      ]
     },
     "execution_count": 8,
     "metadata": {},
     "output_type": "execute_result"
    }
   ],
   "source": [
    "contry_with_min_gdp_values"
   ]
  },
  {
   "cell_type": "markdown",
   "metadata": {},
   "source": [
    "#### 4: Print out text ('evaluating country') and input value ('country name') iteratively"
   ]
  },
  {
   "cell_type": "code",
   "execution_count": 9,
   "metadata": {},
   "outputs": [
    {
     "name": "stdout",
     "output_type": "stream",
     "text": [
      "ecaluating country Algeria Algeria\n",
      "ecaluating country Algeria Angola\n",
      "ecaluating country Algeria Argentina\n",
      "ecaluating country Algeria Australia\n",
      "ecaluating country Algeria Austria\n",
      "ecaluating country Algeria Bahamas\n",
      "ecaluating country Algeria Bangladesh\n",
      "ecaluating country Algeria Belarus\n",
      "ecaluating country Algeria Belgium\n",
      "ecaluating country Algeria Bhutan\n",
      "ecaluating country Algeria Brazil\n",
      "ecaluating country Algeria Bulgaria\n",
      "ecaluating country Algeria Cambodia\n",
      "ecaluating country Algeria Cameroon\n",
      "ecaluating country Algeria Chile\n",
      "ecaluating country Algeria China\n",
      "ecaluating country Algeria Colombia\n",
      "ecaluating country Algeria Cyprus\n",
      "ecaluating country Algeria Denmark\n",
      "ecaluating country Algeria El Salvador\n",
      "ecaluating country Algeria Estonia\n",
      "ecaluating country Algeria Ethiopia\n",
      "ecaluating country Algeria Fiji\n",
      "ecaluating country Algeria Finland\n",
      "ecaluating country Algeria France\n",
      "ecaluating country Algeria Georgia\n",
      "ecaluating country Algeria Ghana\n",
      "ecaluating country Algeria Grenada\n",
      "ecaluating country Algeria Guinea\n",
      "ecaluating country Algeria Haiti\n",
      "ecaluating country Algeria Honduras\n",
      "ecaluating country Algeria Hungary\n",
      "ecaluating country Algeria India\n",
      "ecaluating country Algeria Indonesia\n",
      "ecaluating country Algeria Ireland\n",
      "ecaluating country Algeria Italy\n",
      "ecaluating country Algeria Japan\n",
      "ecaluating country Algeria Kenya\n",
      "ecaluating country Algeria South Korea\n",
      "ecaluating country Algeria Liberia\n",
      "ecaluating country Algeria Malaysia\n",
      "ecaluating country Algeria Mexico\n",
      "ecaluating country Algeria Morocco\n",
      "ecaluating country Algeria Nepal\n",
      "ecaluating country Algeria New Zealand\n",
      "ecaluating country Algeria Norway\n",
      "ecaluating country Algeria Pakistan\n",
      "ecaluating country Algeria Peru\n",
      "ecaluating country Algeria Qatar\n",
      "ecaluating country Algeria Russia\n",
      "ecaluating country Algeria Singapore\n",
      "ecaluating country Algeria South Africa\n",
      "ecaluating country Algeria Spain\n",
      "ecaluating country Algeria Sweden\n",
      "ecaluating country Algeria Switzerland\n",
      "ecaluating country Algeria Thailand\n",
      "ecaluating country Algeria United Arab Emirates\n",
      "ecaluating country Algeria United Kingdom\n",
      "ecaluating country Algeria United States\n",
      "ecaluating country Algeria Uruguay\n",
      "ecaluating country Algeria Venezuela\n",
      "ecaluating country Algeria Vietnam\n",
      "ecaluating country Algeria Zimbabwe\n"
     ]
    }
   ],
   "source": [
    "#Use a for loop to print the required output\n",
    "for country in List_of_countries:\n",
    "    print('ecaluating country Algeria {}'.format(country))"
   ]
  },
  {
   "cell_type": "markdown",
   "metadata": {},
   "source": [
    "#### 5: Print out the entire list of the countries with their GDPs"
   ]
  },
  {
   "cell_type": "code",
   "execution_count": 10,
   "metadata": {},
   "outputs": [
    {
     "name": "stdout",
     "output_type": "stream",
     "text": [
      "contry Algeria per capita gdp is 2255.225482\n",
      "contry Angola per capita gdp is 629.9553062\n",
      "contry Argentina per capita gdp is 11601.63022\n",
      "contry Australia per capita gdp is 25306.82494\n",
      "contry Austria per capita gdp is 27266.40335\n",
      "contry Bahamas per capita gdp is 19466.99052\n",
      "contry Bangladesh per capita gdp is 588.3691778\n",
      "contry Belarus per capita gdp is 2890.345675\n",
      "contry Belgium per capita gdp is 24733.62696\n",
      "contry Bhutan per capita gdp is 1445.760002\n",
      "contry Brazil per capita gdp is 4803.398244\n",
      "contry Bulgaria per capita gdp is 2618.876037\n",
      "contry Cambodia per capita gdp is 590.4521124\n",
      "contry Cameroon per capita gdp is 665.7982328\n",
      "contry Chile per capita gdp is 7122.938458\n",
      "contry China per capita gdp is 2639.54156\n",
      "contry Colombia per capita gdp is 3362.4656\n",
      "contry Cyprus per capita gdp is 15378.16704\n",
      "contry Denmark per capita gdp is 30860.12808\n",
      "contry El Salvador per capita gdp is 2579.115607\n",
      "contry Estonia per capita gdp is 6525.541272\n",
      "contry Ethiopia per capita gdp is 229.6769525\n",
      "contry Fiji per capita gdp is 2242.689259\n",
      "contry Finland per capita gdp is 27570.4852\n",
      "contry France per capita gdp is 23016.84778\n",
      "contry Georgia per capita gdp is 1334.646773\n",
      "contry Ghana per capita gdp is 402.6953275\n",
      "contry Grenada per capita gdp is 6047.200797\n",
      "contry Guinea per capita gdp is 394.1156638\n",
      "contry Haiti per capita gdp is 385.5793827\n",
      "contry Honduras per capita gdp is 1414.072488\n",
      "contry Hungary per capita gdp is 5745.981529\n",
      "contry India per capita gdp is 837.7464011\n",
      "contry Indonesia per capita gdp is 1206.991065\n",
      "contry Ireland per capita gdp is 27715.52837\n",
      "contry Italy per capita gdp is 18937.24998\n",
      "contry Japan per capita gdp is 39578.07441\n",
      "contry Kenya per capita gdp is 478.2194906\n",
      "contry South Korea per capita gdp is 16684.21278\n",
      "contry Liberia per capita gdp is 279.2204061\n",
      "contry Malaysia per capita gdp is 5345.213415\n",
      "contry Mexico per capita gdp is 6288.25324\n",
      "contry Morocco per capita gdp is 1908.304416\n",
      "contry Nepal per capita gdp is 274.8728621\n",
      "contry New Zealand per capita gdp is 14646.42094\n",
      "contry Norway per capita gdp is 40034.85063\n",
      "contry Pakistan per capita gdp is 672.1547506\n",
      "contry Peru per capita gdp is 3359.517402\n",
      "contry Qatar per capita gdp is 36152.66676\n",
      "contry Russia per capita gdp is 3054.727742\n",
      "contry Singapore per capita gdp is 33529.83052\n",
      "contry South Africa per capita gdp is 3825.093781\n",
      "contry Spain per capita gdp is 15428.32098\n",
      "contry Sweden per capita gdp is 33630.24604\n",
      "contry Switzerland per capita gdp is 39170.41371\n",
      "contry Thailand per capita gdp is 2699.123242\n",
      "contry United Arab Emirates per capita gdp is 21058.43643\n",
      "contry United Kingdom per capita gdp is 28272.40661\n",
      "contry United States per capita gdp is 37691.02733\n",
      "contry Uruguay per capita gdp is 9581.05659\n",
      "contry Venezuela per capita gdp is 5671.912202\n",
      "contry Vietnam per capita gdp is 757.4009286\n",
      "contry Zimbabwe per capita gdp is 347.7456605\n"
     ]
    }
   ],
   "source": [
    "#Use a for loop to print the required list\n",
    "\n",
    "for i in range (len(List_of_countries)):\n",
    "    country = List_of_countries [i]\n",
    "    country_gdp = gdp_values[i]\n",
    "    print('contry {} per capita gdp is {}'.format ( country,country_gdp))\n",
    "    "
   ]
  },
  {
   "cell_type": "code",
   "execution_count": 11,
   "metadata": {},
   "outputs": [
    {
     "name": "stdout",
     "output_type": "stream",
     "text": [
      "0\n",
      "... range(0, 63)\n",
      ">>>>>> Algeria\n",
      "<<<<<< 2255.225482\n",
      "contry Algeria per capita gdp is 2255.225482\n",
      "1\n",
      "... range(0, 63)\n",
      ">>>>>> Angola\n",
      "<<<<<< 629.9553062\n",
      "contry Angola per capita gdp is 629.9553062\n",
      "2\n",
      "... range(0, 63)\n",
      ">>>>>> Argentina\n",
      "<<<<<< 11601.63022\n",
      "contry Argentina per capita gdp is 11601.63022\n",
      "3\n",
      "... range(0, 63)\n",
      ">>>>>> Australia\n",
      "<<<<<< 25306.82494\n",
      "contry Australia per capita gdp is 25306.82494\n",
      "4\n",
      "... range(0, 63)\n",
      ">>>>>> Austria\n",
      "<<<<<< 27266.40335\n",
      "contry Austria per capita gdp is 27266.40335\n",
      "5\n",
      "... range(0, 63)\n",
      ">>>>>> Bahamas\n",
      "<<<<<< 19466.99052\n",
      "contry Bahamas per capita gdp is 19466.99052\n",
      "6\n",
      "... range(0, 63)\n",
      ">>>>>> Bangladesh\n",
      "<<<<<< 588.3691778\n",
      "contry Bangladesh per capita gdp is 588.3691778\n",
      "7\n",
      "... range(0, 63)\n",
      ">>>>>> Belarus\n",
      "<<<<<< 2890.345675\n",
      "contry Belarus per capita gdp is 2890.345675\n",
      "8\n",
      "... range(0, 63)\n",
      ">>>>>> Belgium\n",
      "<<<<<< 24733.62696\n",
      "contry Belgium per capita gdp is 24733.62696\n",
      "9\n",
      "... range(0, 63)\n",
      ">>>>>> Bhutan\n",
      "<<<<<< 1445.760002\n",
      "contry Bhutan per capita gdp is 1445.760002\n",
      "10\n",
      "... range(0, 63)\n",
      ">>>>>> Brazil\n",
      "<<<<<< 4803.398244\n",
      "contry Brazil per capita gdp is 4803.398244\n",
      "11\n",
      "... range(0, 63)\n",
      ">>>>>> Bulgaria\n",
      "<<<<<< 2618.876037\n",
      "contry Bulgaria per capita gdp is 2618.876037\n",
      "12\n",
      "... range(0, 63)\n",
      ">>>>>> Cambodia\n",
      "<<<<<< 590.4521124\n",
      "contry Cambodia per capita gdp is 590.4521124\n",
      "13\n",
      "... range(0, 63)\n",
      ">>>>>> Cameroon\n",
      "<<<<<< 665.7982328\n",
      "contry Cameroon per capita gdp is 665.7982328\n",
      "14\n",
      "... range(0, 63)\n",
      ">>>>>> Chile\n",
      "<<<<<< 7122.938458\n",
      "contry Chile per capita gdp is 7122.938458\n",
      "15\n",
      "... range(0, 63)\n",
      ">>>>>> China\n",
      "<<<<<< 2639.54156\n",
      "contry China per capita gdp is 2639.54156\n",
      "16\n",
      "... range(0, 63)\n",
      ">>>>>> Colombia\n",
      "<<<<<< 3362.4656\n",
      "contry Colombia per capita gdp is 3362.4656\n",
      "17\n",
      "... range(0, 63)\n",
      ">>>>>> Cyprus\n",
      "<<<<<< 15378.16704\n",
      "contry Cyprus per capita gdp is 15378.16704\n",
      "18\n",
      "... range(0, 63)\n",
      ">>>>>> Denmark\n",
      "<<<<<< 30860.12808\n",
      "contry Denmark per capita gdp is 30860.12808\n",
      "19\n",
      "... range(0, 63)\n",
      ">>>>>> El Salvador\n",
      "<<<<<< 2579.115607\n",
      "contry El Salvador per capita gdp is 2579.115607\n",
      "20\n",
      "... range(0, 63)\n",
      ">>>>>> Estonia\n",
      "<<<<<< 6525.541272\n",
      "contry Estonia per capita gdp is 6525.541272\n",
      "21\n",
      "... range(0, 63)\n",
      ">>>>>> Ethiopia\n",
      "<<<<<< 229.6769525\n",
      "contry Ethiopia per capita gdp is 229.6769525\n",
      "22\n",
      "... range(0, 63)\n",
      ">>>>>> Fiji\n",
      "<<<<<< 2242.689259\n",
      "contry Fiji per capita gdp is 2242.689259\n",
      "23\n",
      "... range(0, 63)\n",
      ">>>>>> Finland\n",
      "<<<<<< 27570.4852\n",
      "contry Finland per capita gdp is 27570.4852\n",
      "24\n",
      "... range(0, 63)\n",
      ">>>>>> France\n",
      "<<<<<< 23016.84778\n",
      "contry France per capita gdp is 23016.84778\n",
      "25\n",
      "... range(0, 63)\n",
      ">>>>>> Georgia\n",
      "<<<<<< 1334.646773\n",
      "contry Georgia per capita gdp is 1334.646773\n",
      "26\n",
      "... range(0, 63)\n",
      ">>>>>> Ghana\n",
      "<<<<<< 402.6953275\n",
      "contry Ghana per capita gdp is 402.6953275\n",
      "27\n",
      "... range(0, 63)\n",
      ">>>>>> Grenada\n",
      "<<<<<< 6047.200797\n",
      "contry Grenada per capita gdp is 6047.200797\n",
      "28\n",
      "... range(0, 63)\n",
      ">>>>>> Guinea\n",
      "<<<<<< 394.1156638\n",
      "contry Guinea per capita gdp is 394.1156638\n",
      "29\n",
      "... range(0, 63)\n",
      ">>>>>> Haiti\n",
      "<<<<<< 385.5793827\n",
      "contry Haiti per capita gdp is 385.5793827\n",
      "30\n",
      "... range(0, 63)\n",
      ">>>>>> Honduras\n",
      "<<<<<< 1414.072488\n",
      "contry Honduras per capita gdp is 1414.072488\n",
      "31\n",
      "... range(0, 63)\n",
      ">>>>>> Hungary\n",
      "<<<<<< 5745.981529\n",
      "contry Hungary per capita gdp is 5745.981529\n",
      "32\n",
      "... range(0, 63)\n",
      ">>>>>> India\n",
      "<<<<<< 837.7464011\n",
      "contry India per capita gdp is 837.7464011\n",
      "33\n",
      "... range(0, 63)\n",
      ">>>>>> Indonesia\n",
      "<<<<<< 1206.991065\n",
      "contry Indonesia per capita gdp is 1206.991065\n",
      "34\n",
      "... range(0, 63)\n",
      ">>>>>> Ireland\n",
      "<<<<<< 27715.52837\n",
      "contry Ireland per capita gdp is 27715.52837\n",
      "35\n",
      "... range(0, 63)\n",
      ">>>>>> Italy\n",
      "<<<<<< 18937.24998\n",
      "contry Italy per capita gdp is 18937.24998\n",
      "36\n",
      "... range(0, 63)\n",
      ">>>>>> Japan\n",
      "<<<<<< 39578.07441\n",
      "contry Japan per capita gdp is 39578.07441\n",
      "37\n",
      "... range(0, 63)\n",
      ">>>>>> Kenya\n",
      "<<<<<< 478.2194906\n",
      "contry Kenya per capita gdp is 478.2194906\n",
      "38\n",
      "... range(0, 63)\n",
      ">>>>>> South Korea\n",
      "<<<<<< 16684.21278\n",
      "contry South Korea per capita gdp is 16684.21278\n",
      "39\n",
      "... range(0, 63)\n",
      ">>>>>> Liberia\n",
      "<<<<<< 279.2204061\n",
      "contry Liberia per capita gdp is 279.2204061\n",
      "40\n",
      "... range(0, 63)\n",
      ">>>>>> Malaysia\n",
      "<<<<<< 5345.213415\n",
      "contry Malaysia per capita gdp is 5345.213415\n",
      "41\n",
      "... range(0, 63)\n",
      ">>>>>> Mexico\n",
      "<<<<<< 6288.25324\n",
      "contry Mexico per capita gdp is 6288.25324\n",
      "42\n",
      "... range(0, 63)\n",
      ">>>>>> Morocco\n",
      "<<<<<< 1908.304416\n",
      "contry Morocco per capita gdp is 1908.304416\n",
      "43\n",
      "... range(0, 63)\n",
      ">>>>>> Nepal\n",
      "<<<<<< 274.8728621\n",
      "contry Nepal per capita gdp is 274.8728621\n",
      "44\n",
      "... range(0, 63)\n",
      ">>>>>> New Zealand\n",
      "<<<<<< 14646.42094\n",
      "contry New Zealand per capita gdp is 14646.42094\n",
      "45\n",
      "... range(0, 63)\n",
      ">>>>>> Norway\n",
      "<<<<<< 40034.85063\n",
      "contry Norway per capita gdp is 40034.85063\n",
      "46\n",
      "... range(0, 63)\n",
      ">>>>>> Pakistan\n",
      "<<<<<< 672.1547506\n",
      "contry Pakistan per capita gdp is 672.1547506\n",
      "47\n",
      "... range(0, 63)\n",
      ">>>>>> Peru\n",
      "<<<<<< 3359.517402\n",
      "contry Peru per capita gdp is 3359.517402\n",
      "48\n",
      "... range(0, 63)\n",
      ">>>>>> Qatar\n",
      "<<<<<< 36152.66676\n",
      "contry Qatar per capita gdp is 36152.66676\n",
      "49\n",
      "... range(0, 63)\n",
      ">>>>>> Russia\n",
      "<<<<<< 3054.727742\n",
      "contry Russia per capita gdp is 3054.727742\n",
      "50\n",
      "... range(0, 63)\n",
      ">>>>>> Singapore\n",
      "<<<<<< 33529.83052\n",
      "contry Singapore per capita gdp is 33529.83052\n",
      "51\n",
      "... range(0, 63)\n",
      ">>>>>> South Africa\n",
      "<<<<<< 3825.093781\n",
      "contry South Africa per capita gdp is 3825.093781\n",
      "52\n",
      "... range(0, 63)\n",
      ">>>>>> Spain\n",
      "<<<<<< 15428.32098\n",
      "contry Spain per capita gdp is 15428.32098\n",
      "53\n",
      "... range(0, 63)\n",
      ">>>>>> Sweden\n",
      "<<<<<< 33630.24604\n",
      "contry Sweden per capita gdp is 33630.24604\n",
      "54\n",
      "... range(0, 63)\n",
      ">>>>>> Switzerland\n",
      "<<<<<< 39170.41371\n",
      "contry Switzerland per capita gdp is 39170.41371\n",
      "55\n",
      "... range(0, 63)\n",
      ">>>>>> Thailand\n",
      "<<<<<< 2699.123242\n",
      "contry Thailand per capita gdp is 2699.123242\n",
      "56\n",
      "... range(0, 63)\n",
      ">>>>>> United Arab Emirates\n",
      "<<<<<< 21058.43643\n",
      "contry United Arab Emirates per capita gdp is 21058.43643\n",
      "57\n",
      "... range(0, 63)\n",
      ">>>>>> United Kingdom\n",
      "<<<<<< 28272.40661\n",
      "contry United Kingdom per capita gdp is 28272.40661\n",
      "58\n",
      "... range(0, 63)\n",
      ">>>>>> United States\n",
      "<<<<<< 37691.02733\n",
      "contry United States per capita gdp is 37691.02733\n",
      "59\n",
      "... range(0, 63)\n",
      ">>>>>> Uruguay\n",
      "<<<<<< 9581.05659\n",
      "contry Uruguay per capita gdp is 9581.05659\n",
      "60\n",
      "... range(0, 63)\n",
      ">>>>>> Venezuela\n",
      "<<<<<< 5671.912202\n",
      "contry Venezuela per capita gdp is 5671.912202\n",
      "61\n",
      "... range(0, 63)\n",
      ">>>>>> Vietnam\n",
      "<<<<<< 757.4009286\n",
      "contry Vietnam per capita gdp is 757.4009286\n",
      "62\n",
      "... range(0, 63)\n",
      ">>>>>> Zimbabwe\n",
      "<<<<<< 347.7456605\n",
      "contry Zimbabwe per capita gdp is 347.7456605\n"
     ]
    }
   ],
   "source": [
    "for i in range (len(List_of_countries)):\n",
    "    print(i)\n",
    "    print('...',range (len(List_of_countries)) )\n",
    "    country = List_of_countries [i]\n",
    "    print('>>>>>>',List_of_countries [i] )\n",
    "    country_gdp = gdp_values[i]\n",
    "    print(\"<<<<<<\", gdp_values[i] )\n",
    "    print('contry {} per capita gdp is {}'.format ( country,country_gdp))"
   ]
  },
  {
   "cell_type": "code",
   "execution_count": 12,
   "metadata": {},
   "outputs": [
    {
     "data": {
      "text/plain": [
       "63"
      ]
     },
     "execution_count": 12,
     "metadata": {},
     "output_type": "execute_result"
    }
   ],
   "source": [
    "len(List_of_countries)"
   ]
  },
  {
   "cell_type": "code",
   "execution_count": 13,
   "metadata": {},
   "outputs": [
    {
     "data": {
      "text/plain": [
       "range(0, 63)"
      ]
     },
     "execution_count": 13,
     "metadata": {},
     "output_type": "execute_result"
    }
   ],
   "source": [
    "range(len(List_of_countries))"
   ]
  },
  {
   "cell_type": "markdown",
   "metadata": {},
   "source": [
    "#### 6: Print the following:\n",
    "1. Highest GPD value\n",
    "2. Lowest GDP value\n",
    "3. Mean GDP value\n",
    "4. Standardized GDP value\n",
    "5. Sum of all the GDPs"
   ]
  },
  {
   "cell_type": "code",
   "execution_count": 14,
   "metadata": {},
   "outputs": [
    {
     "name": "stdout",
     "output_type": "stream",
     "text": [
      "40034.85063\n",
      "229.6769525\n",
      "11289.409271639683\n",
      "12743.828910617945\n",
      "711232.7841133\n"
     ]
    }
   ],
   "source": [
    "print(gdp_values.max())\n",
    "print(gdp_values.min())\n",
    "print(gdp_values.mean())\n",
    "print(gdp_values.std())\n",
    "print(gdp_values.sum())"
   ]
  },
  {
   "cell_type": "code",
   "execution_count": null,
   "metadata": {},
   "outputs": [],
   "source": []
  }
 ],
 "metadata": {
  "kernelspec": {
   "display_name": "Python 3",
   "language": "python",
   "name": "python3"
  },
  "language_info": {
   "codemirror_mode": {
    "name": "ipython",
    "version": 3
   },
   "file_extension": ".py",
   "mimetype": "text/x-python",
   "name": "python",
   "nbconvert_exporter": "python",
   "pygments_lexer": "ipython3",
   "version": "3.7.6"
  }
 },
 "nbformat": 4,
 "nbformat_minor": 1
}
