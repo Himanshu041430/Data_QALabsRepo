{
 "cells": [
  {
   "cell_type": "markdown",
   "metadata": {},
   "source": [
    "#### LISTS IN PYTHON"
   ]
  },
  {
   "cell_type": "code",
   "execution_count": null,
   "metadata": {},
   "outputs": [],
   "source": [
    "# lst can contain multiple data types and structures\n",
    "lst = [1,\"sdfs\",3,[1,2,3,4,5],5,set([1,2,3]),{\"A\":1}]\n",
    "lst"
   ]
  },
  {
   "cell_type": "code",
   "execution_count": null,
   "metadata": {},
   "outputs": [],
   "source": [
    "# lst can contain list within lists\n",
    "lst = [[1,2,3],[1,2,3,4,5]]\n",
    "lst"
   ]
  },
  {
   "cell_type": "markdown",
   "metadata": {},
   "source": [
    "#### Operations on List"
   ]
  },
  {
   "cell_type": "code",
   "execution_count": null,
   "metadata": {},
   "outputs": [],
   "source": [
    "# append\n",
    "lst = []\n",
    "for i in range(10):\n",
    "    lst.append(i)\n",
    "lst"
   ]
  },
  {
   "cell_type": "code",
   "execution_count": null,
   "metadata": {},
   "outputs": [],
   "source": [
    "# extend\n",
    "lst = []\n",
    "for i in range(10):\n",
    "    lst.extend([i])\n",
    "    print(lst)\n",
    "lst"
   ]
  },
  {
   "cell_type": "code",
   "execution_count": null,
   "metadata": {},
   "outputs": [],
   "source": [
    "# Difference b/w append and extend\n",
    "# Make [1,2,3] --> [1,2,3,4,5,6] \n",
    "lst1 = [1,2,3]\n",
    "lst2 = (4,5,6) \n",
    "lst1.extend(lst2)\n",
    "print(lst1)"
   ]
  },
  {
   "cell_type": "code",
   "execution_count": null,
   "metadata": {},
   "outputs": [],
   "source": [
    "lst1 = [1,2,3]\n",
    "lst2 = [4,5,6] \n",
    "lst3 = lst1 + lst2\n",
    "lst3"
   ]
  },
  {
   "cell_type": "code",
   "execution_count": null,
   "metadata": {},
   "outputs": [],
   "source": [
    "# Insert\n",
    "lst = [1, 2, 3, 4, 5, 6] \n",
    "lst.insert(5,1000)\n",
    "lst"
   ]
  },
  {
   "cell_type": "code",
   "execution_count": null,
   "metadata": {},
   "outputs": [],
   "source": [
    "# remove\n",
    "lst = [\"a\",\"b\",\"cd\",\"efg\",\"cd\"]\n",
    "for ele in lst:\n",
    "    if ele==\"cd\":\n",
    "        lst.remove(ele)\n",
    "        \n",
    "lst"
   ]
  },
  {
   "cell_type": "code",
   "execution_count": null,
   "metadata": {},
   "outputs": [],
   "source": [
    "# pop\n",
    "lst = [\"a\",\"b\",\"cd\",\"efg\"]\n",
    "lst.pop(0)\n",
    "lst"
   ]
  },
  {
   "cell_type": "code",
   "execution_count": null,
   "metadata": {},
   "outputs": [],
   "source": [
    "# diff b/w remove and pop\n",
    "\n",
    "\n",
    "lst = [\"a\",\"b\",\"cd\",\"efg\",\"cd\"]\n",
    "print(lst.remove(\"cd\"))\n",
    "\n",
    "print('-'*130)\n",
    "\n",
    "lst = [\"a\",\"b\",\"cd\",\"efg\"]\n",
    "print(lst.pop(2))"
   ]
  },
  {
   "cell_type": "markdown",
   "metadata": {},
   "source": [
    "OUTPUT"
   ]
  },
  {
   "cell_type": "code",
   "execution_count": null,
   "metadata": {},
   "outputs": [],
   "source": [
    "# 1\n",
    "li =['abcd','def']\n",
    "li.insert(400,5)\n",
    "print(li)"
   ]
  },
  {
   "cell_type": "code",
   "execution_count": null,
   "metadata": {},
   "outputs": [],
   "source": [
    "# 2\n",
    "li = ['abcd',5,'def',5,'def']\n",
    "li.remove(5)\n",
    "print(li)"
   ]
  },
  {
   "cell_type": "code",
   "execution_count": null,
   "metadata": {},
   "outputs": [],
   "source": [
    "# 3\n",
    "li = [5,2,6,8]\n",
    "print(li.pop(2))\n",
    "print(li)"
   ]
  },
  {
   "cell_type": "code",
   "execution_count": null,
   "metadata": {},
   "outputs": [],
   "source": [
    "# SORT\n",
    "import random\n",
    "lst = random.sample(range(10,300),20)\n",
    "\n",
    "lst.sort(reverse=True)\n",
    "lst"
   ]
  },
  {
   "cell_type": "code",
   "execution_count": null,
   "metadata": {},
   "outputs": [],
   "source": [
    "# COUNT\n",
    "lst = [1,2,2,3,4,5,2]\n",
    "lst.count(2)"
   ]
  },
  {
   "cell_type": "code",
   "execution_count": null,
   "metadata": {},
   "outputs": [],
   "source": [
    "# CLEAR\n",
    "lst = [1,2,2,3,4,5,2]\n",
    "lst.clear()\n",
    "lst"
   ]
  },
  {
   "cell_type": "code",
   "execution_count": null,
   "metadata": {},
   "outputs": [],
   "source": [
    "# iMPORTANCE OF SHALLOW COPY OF LISTS TO AVOID EFFECTS OF MUTABILITY\n",
    "# .COPY METHOD\n",
    "lst = [1,2,3]\n",
    "lst1 = lst.copy()\n",
    "lst1.append(4)\n",
    "print(lst1,lst)\n",
    "print(id(lst1),id(lst))"
   ]
  },
  {
   "cell_type": "markdown",
   "metadata": {},
   "source": [
    "LIST COMPREHENSIONS\n"
   ]
  },
  {
   "cell_type": "code",
   "execution_count": null,
   "metadata": {},
   "outputs": [],
   "source": [
    "lst = []\n",
    "for i in range(100,1000,100):\n",
    "    lst.append(i)\n",
    "print(lst)\n",
    "\n",
    "lst = [i for i in range(100,1000,100)]\n",
    "print(lst)"
   ]
  },
  {
   "cell_type": "code",
   "execution_count": null,
   "metadata": {},
   "outputs": [],
   "source": [
    "# negative indexing\n",
    "l = [100, 200, 300, 400, 500, 600, 700, 800, 900]\n",
    "l[-3]"
   ]
  },
  {
   "cell_type": "code",
   "execution_count": 3,
   "metadata": {},
   "outputs": [
    {
     "name": "stdout",
     "output_type": "stream",
     "text": [
      "1,2,3,4,5\n",
      "[1, 2, 3, 4, 5]\n"
     ]
    }
   ],
   "source": [
    "# .split()  # converts string to list directly\n",
    "a = input()\n",
    "a = \"1,2,3,4,5\"\n",
    "lst = [int(i) for i in a.split(\",\")]\n",
    "print(lst)"
   ]
  },
  {
   "cell_type": "markdown",
   "metadata": {},
   "source": [
    "Linear Search   \n",
    "Search for a number in list and tell whether it is present or not present."
   ]
  },
  {
   "cell_type": "code",
   "execution_count": 5,
   "metadata": {},
   "outputs": [
    {
     "name": "stdout",
     "output_type": "stream",
     "text": [
      "Not Present\n"
     ]
    }
   ],
   "source": [
    "li = [1,2,3,5,4,7]\n",
    "som = 70\n",
    "for ele in li:\n",
    "    if ele==som:\n",
    "        print(\"Present\")\n",
    "        break\n",
    "else:\n",
    "    print(\"Not Present\")\n",
    "        "
   ]
  },
  {
   "cell_type": "markdown",
   "metadata": {},
   "source": [
    "OUTPUT"
   ]
  },
  {
   "cell_type": "code",
   "execution_count": 6,
   "metadata": {},
   "outputs": [
    {
     "name": "stdout",
     "output_type": "stream",
     "text": [
      "[1, 4, 3, 4, 5]\n"
     ]
    }
   ],
   "source": [
    "# 1\n",
    "def change(li):\n",
    "    li[1] = li[1] + 2\n",
    "li = [1,2,3,4,5]\n",
    "change(li)\n",
    "print(li)"
   ]
  },
  {
   "cell_type": "code",
   "execution_count": 7,
   "metadata": {},
   "outputs": [
    {
     "name": "stdout",
     "output_type": "stream",
     "text": [
      "[1, 4, 3, 4, 5]\n"
     ]
    }
   ],
   "source": [
    "# 2\n",
    "def change(li):\n",
    "    li[1] = li[1] + 2  # changes are executed\n",
    "    li = [3,3,3,4,5]   # assignment is not\n",
    "li = [1,2,3,4,5]\n",
    "change(li)\n",
    "print(li)\n"
   ]
  },
  {
   "cell_type": "markdown",
   "metadata": {},
   "source": [
    "#### Q - Reverse a list\n"
   ]
  },
  {
   "cell_type": "code",
   "execution_count": 8,
   "metadata": {},
   "outputs": [
    {
     "data": {
      "text/plain": [
       "[5, 4, 3, 2, 1]"
      ]
     },
     "execution_count": 8,
     "metadata": {},
     "output_type": "execute_result"
    }
   ],
   "source": [
    "li = [1,2,3,4,5]\n",
    "lst = []\n",
    "for i in range(len(li)-1,-1,-1):\n",
    "    lst.append(li[i])\n",
    "lst"
   ]
  },
  {
   "cell_type": "markdown",
   "metadata": {},
   "source": [
    "#### Q - Swap Alternate    \n",
    "\n",
    "You have been given an array/list(ARR) of size N. You need to swap every pair of alternate elements in the array/list.   \n",
    "\n",
    "Example -    \n",
    "input - 9 3 6 12 4 32    \n",
    "output - 3 9 12 6 32 4\n",
    "\n",
    "Example 2 -      \n",
    "input - 9 3 6 12 4 32 5 11 19    \n",
    "output - 3 9 12 6 32 4 11 5 19    "
   ]
  },
  {
   "cell_type": "code",
   "execution_count": 14,
   "metadata": {},
   "outputs": [
    {
     "name": "stdout",
     "output_type": "stream",
     "text": [
      "[3, 9, 12, 6, 32, 4, 11, 5, 19]\n"
     ]
    }
   ],
   "source": [
    "s = \"9 3 6 12 4 32 5 11 19\"\n",
    "li = [int(i) for i in s.split(\" \")]\n",
    "n = len(li)\n",
    "for i in range(0,n-1,2):\n",
    "    li[i],li[i+1] = li[i+1],li[i]\n",
    "print(li)"
   ]
  },
  {
   "cell_type": "markdown",
   "metadata": {},
   "source": [
    "#### Q - Find Unique\n",
    "\n",
    "You have been given an integer array/list(ARR) of size N. Where N is equal to [2M + 1].    \n",
    "Now, in the given array/list, 'M' numbers are present twice and one number is present only once.     \n",
    "You need to find and return that number which is unique in the array/list.   \n",
    "hint: {dictionary}"
   ]
  },
  {
   "cell_type": "code",
   "execution_count": 16,
   "metadata": {},
   "outputs": [
    {
     "name": "stdout",
     "output_type": "stream",
     "text": [
      "6\n"
     ]
    }
   ],
   "source": [
    "li = [1,1,2,2,5,3,3,6,4,4,5]\n",
    "d = {}\n",
    "for ele in li:\n",
    "    d[ele] = d.get(ele,0) + 1\n",
    "    \n",
    "for key in d:\n",
    "    if d[key] == 1:\n",
    "        print(key)\n",
    "        break\n"
   ]
  },
  {
   "cell_type": "markdown",
   "metadata": {},
   "source": [
    "#### Home-Work"
   ]
  },
  {
   "cell_type": "markdown",
   "metadata": {},
   "source": [
    "#### Q- Find Duplicate   \n",
    "You have been given an integer array/list(ARR) of size N which contains numbers from 0 to (N - 2).    Each number is present at least once.        That is, if N = 5, the array/list constitutes values ranging from 0 to 3 and among these, there is a single integer value that is present twice.     You need to find and return that duplicate number present in the array."
   ]
  },
  {
   "cell_type": "code",
   "execution_count": null,
   "metadata": {},
   "outputs": [],
   "source": [
    "\n",
    "#Hint : sum of natural numbers"
   ]
  },
  {
   "cell_type": "markdown",
   "metadata": {},
   "source": [
    "#### Q- Array Intersection\n",
    "You have been given two integer arrays/list(ARR1 and ARR2) of size M and N, respectively. You need to print their intersection.    \n",
    "Intersection exists when there is a common value that exists in both the arrays/lists"
   ]
  },
  {
   "cell_type": "code",
   "execution_count": null,
   "metadata": {},
   "outputs": [],
   "source": []
  },
  {
   "cell_type": "markdown",
   "metadata": {},
   "source": [
    "#### Q - Pair Sum  {Medium}\n",
    "You have been given an integer array/list(ARR) and a number X. Find and return the total number of pairs in the array/list which sum to X.    \n"
   ]
  },
  {
   "cell_type": "code",
   "execution_count": null,
   "metadata": {},
   "outputs": [],
   "source": []
  },
  {
   "cell_type": "markdown",
   "metadata": {},
   "source": [
    "#### Q - Sort 0 1 {Medium}\n",
    "You have been given an integer array/list(ARR) of size N that contains only integers, 0 and 1. Write a function to sort this array/list.   \n",
    "Think of a solution which scans the array/list only once and don't require use of an extra array/list/dictionary."
   ]
  },
  {
   "cell_type": "code",
   "execution_count": null,
   "metadata": {},
   "outputs": [],
   "source": []
  },
  {
   "cell_type": "markdown",
   "metadata": {},
   "source": []
  }
 ],
 "metadata": {
  "kernelspec": {
   "display_name": "Python 3",
   "language": "python",
   "name": "python3"
  },
  "language_info": {
   "codemirror_mode": {
    "name": "ipython",
    "version": 3
   },
   "file_extension": ".py",
   "mimetype": "text/x-python",
   "name": "python",
   "nbconvert_exporter": "python",
   "pygments_lexer": "ipython3",
   "version": "3.7.6"
  }
 },
 "nbformat": 4,
 "nbformat_minor": 4
}
