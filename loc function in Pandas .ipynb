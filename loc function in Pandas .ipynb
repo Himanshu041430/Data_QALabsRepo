{
 "cells": [
  {
   "cell_type": "code",
   "execution_count": 6,
   "id": "65ffb720-966f-4e6c-a245-e19c05eaa45b",
   "metadata": {},
   "outputs": [
    {
     "name": "stdout",
     "output_type": "stream",
     "text": [
      "      Name  Age         City\n",
      "0    Alice   25     New York\n",
      "1      Bob   30  Los Angeles\n",
      "2  Charlie   35      Chicago\n",
      "3    David   40      Houston\n",
      "4      Eva   45      Phoenix\n"
     ]
    }
   ],
   "source": [
    "import pandas as pd\n",
    "\n",
    "data = {\n",
    "    'Name': ['Alice', 'Bob', 'Charlie', 'David', 'Eva'],\n",
    "    'Age': [25, 30, 35, 40, 45],\n",
    "    'City': ['New York', 'Los Angeles', 'Chicago', 'Houston', 'Phoenix']\n",
    "}\n",
    "\n",
    "df = pd.DataFrame(data)\n",
    "print(df)\n"
   ]
  },
  {
   "cell_type": "markdown",
   "id": "145aca03-d872-44cc-afd9-bf19a8432697",
   "metadata": {},
   "source": [
    "### 1. Select a specific row by label:\n"
   ]
  },
  {
   "cell_type": "code",
   "execution_count": 7,
   "id": "1c61ce67-d0cd-4f17-9881-09a8f179e5a1",
   "metadata": {},
   "outputs": [
    {
     "name": "stdout",
     "output_type": "stream",
     "text": [
      "Name    Charlie\n",
      "Age          35\n",
      "City    Chicago\n",
      "Name: 2, dtype: object\n"
     ]
    }
   ],
   "source": [
    "# Select the row with index label 2\n",
    "row_2 = df.loc[2]\n",
    "print(row_2)\n"
   ]
  },
  {
   "cell_type": "markdown",
   "id": "ea479a4b-0ddc-451e-b8c9-3806468a611e",
   "metadata": {},
   "source": [
    "### 2. Select specific rows and columns by labels:"
   ]
  },
  {
   "cell_type": "code",
   "execution_count": 8,
   "id": "611673ff-9e67-4a76-b5c6-c45d22f18607",
   "metadata": {},
   "outputs": [
    {
     "name": "stdout",
     "output_type": "stream",
     "text": [
      "30\n"
     ]
    }
   ],
   "source": [
    "# Select the row with index 1 and the 'Age' column\n",
    "age_bob = df.loc[1, 'Age']\n",
    "print(age_bob)\n"
   ]
  },
  {
   "cell_type": "markdown",
   "id": "19bd6da5-0469-4b84-8a5c-3fee332f231b",
   "metadata": {},
   "source": [
    "#### 3. Select a range of rows and specific columns by labels:"
   ]
  },
  {
   "cell_type": "code",
   "execution_count": 9,
   "id": "5f866864-4eae-4649-bff8-7748fd6ec39b",
   "metadata": {},
   "outputs": [
    {
     "name": "stdout",
     "output_type": "stream",
     "text": [
      "      Name         City\n",
      "1      Bob  Los Angeles\n",
      "2  Charlie      Chicago\n",
      "3    David      Houston\n"
     ]
    }
   ],
   "source": [
    "# Select rows with index 1 to 3 (inclusive) and columns 'Name' and 'City'\n",
    "\n",
    "subset = df.loc[1:3, ['Name', 'City']]\n",
    "print(subset)\n"
   ]
  },
  {
   "cell_type": "markdown",
   "id": "9b550e0b-2ede-44cd-9c48-0c2ce54ac8a7",
   "metadata": {},
   "source": [
    "### 4.Select rows based on conditions: "
   ]
  },
  {
   "cell_type": "code",
   "execution_count": 11,
   "id": "1a35aff4-7944-43e4-992c-c067325d9482",
   "metadata": {},
   "outputs": [
    {
     "name": "stdout",
     "output_type": "stream",
     "text": [
      "      Name  Age     City\n",
      "2  Charlie   35  Chicago\n",
      "3    David   40  Houston\n",
      "4      Eva   45  Phoenix\n"
     ]
    }
   ],
   "source": [
    "# Select rows where Age is greater than 30\n",
    "age_filter = df.loc[df['Age'] > 30]\n",
    "print(age_filter)\n"
   ]
  },
  {
   "cell_type": "markdown",
   "id": "b88b82a6-d47a-449d-92f4-15a843e299dc",
   "metadata": {},
   "source": [
    "### 5. Select specific columns for all rows:"
   ]
  },
  {
   "cell_type": "code",
   "execution_count": 12,
   "id": "f4169823-c4dc-4aa3-9faf-d696b5de4994",
   "metadata": {},
   "outputs": [
    {
     "name": "stdout",
     "output_type": "stream",
     "text": [
      "      Name         City\n",
      "0    Alice     New York\n",
      "1      Bob  Los Angeles\n",
      "2  Charlie      Chicago\n",
      "3    David      Houston\n",
      "4      Eva      Phoenix\n"
     ]
    }
   ],
   "source": [
    "# Select only the 'Name' and 'City' columns for all rows\n",
    "\n",
    "names_and_cities = df.loc[:, ['Name', 'City']]\n",
    "print(names_and_cities)\n"
   ]
  },
  {
   "cell_type": "raw",
   "id": "2650e6eb-c678-487d-bb26-f3722cd61a26",
   "metadata": {},
   "source": [
    "Explanation:\n",
    "loc[2]: Selects the row with index label 2.\n",
    "loc[1, 'Age']: Selects the value from row with index label 1 and column Age.\n",
    "loc[1:3, ['Name', 'City']]: Selects rows from index 1 to 3 (inclusive) and columns Name and City.\n",
    "loc[df['Age'] > 30]: Selects rows where the Age column is greater than 30.\n",
    "loc[:, ['Name', 'City']]: Selects all rows for the columns Name and City.\n",
    "The loc method is very useful when you want to filter data based on labels or logical conditions rather than positions. \n",
    "Let me know if you need more clarification!"
   ]
  },
  {
   "cell_type": "code",
   "execution_count": null,
   "id": "2a8e2c61-76a5-4d0d-85ec-b39c1737bb8c",
   "metadata": {},
   "outputs": [],
   "source": []
  }
 ],
 "metadata": {
  "kernelspec": {
   "display_name": "Python 3",
   "language": "python",
   "name": "python3"
  },
  "language_info": {
   "codemirror_mode": {
    "name": "ipython",
    "version": 3
   },
   "file_extension": ".py",
   "mimetype": "text/x-python",
   "name": "python",
   "nbconvert_exporter": "python",
   "pygments_lexer": "ipython3",
   "version": "3.12.3"
  }
 },
 "nbformat": 4,
 "nbformat_minor": 5
}
