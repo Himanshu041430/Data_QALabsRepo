{
 "cells": [
  {
   "cell_type": "markdown",
   "metadata": {},
   "source": [
    " Pandas is open source library built on top of Numpy\n",
    " Fast analysis and data cleaning and preparation\n",
    " Excels in performance and productivity\n",
    " Has built in visualization features\n",
    " Can work with data from wide variety of sources\n",
    " \n",
    " \n",
    " Data Structures In Pandas\n",
    " 1) Series \n",
    "       One Dimensional labelled Arrays\n",
    "       Supports multiple data types\n",
    "  2) Data Frame\n",
    "       Two Dimensional Labelled Arrays\n",
    "       Supports Multiple Data Types\n",
    "       Input can be a Series or another Data Frame\n",
    "       \n",
    "  3)  Panel\n",
    "       Three Dimensional Labelled Array\n",
    "       Supports Multiple Data Types\n",
    "       Used for wrangling 3 dim datasets\n",
    "       \n",
    "\n",
    "Installlation of pandas outside jupyter\n",
    " from command line or terminal  pip install pandas\n",
    " from anaconda prompt           conda install pandas\n",
    "\n",
    "if you already installed jupyter , you can call pandas automatically"
   ]
  },
  {
   "cell_type": "code",
   "execution_count": null,
   "metadata": {
    "collapsed": true
   },
   "outputs": [],
   "source": []
  },
  {
   "cell_type": "markdown",
   "metadata": {},
   "source": [
    "Pandas Series\n",
    "     Series is similar to numpy array, difference is it can be indexed by label\n",
    "     Series can be defined out of ndarray,dict,scalar ,list\n",
    "     \n",
    "     "
   ]
  },
  {
   "cell_type": "code",
   "execution_count": 1,
   "metadata": {
    "collapsed": true
   },
   "outputs": [],
   "source": [
    "import numpy as np"
   ]
  },
  {
   "cell_type": "code",
   "execution_count": 2,
   "metadata": {
    "collapsed": true
   },
   "outputs": [],
   "source": [
    "import pandas as pd"
   ]
  },
  {
   "cell_type": "code",
   "execution_count": 6,
   "metadata": {
    "collapsed": true
   },
   "outputs": [],
   "source": [
    "#### let us create 4 objects\n",
    "\n",
    "### create a new list called \"labels\"  with strings\n",
    "labels = ['a','b','c','d','e']\n",
    "\n",
    "#### create a new list of numbers\n",
    "my_data = [10,20,30,40,50]\n",
    "\n",
    "#### create a numpy array \n",
    "arr = np.array(my_data)\n",
    "\n",
    "### create a dictionary\n",
    "d = {'key1':10, 'key2':20,'key3':100,'key4':40,'key5':50}"
   ]
  },
  {
   "cell_type": "code",
   "execution_count": 7,
   "metadata": {},
   "outputs": [
    {
     "name": "stdout",
     "output_type": "stream",
     "text": [
      "['a', 'b', 'c', 'd', 'e']\n",
      "[10, 20, 30, 40, 50]\n",
      "[10 20 30 40 50]\n",
      "{'key1': 10, 'key2': 20, 'key3': 100, 'key4': 40, 'key5': 50}\n"
     ]
    }
   ],
   "source": [
    "print(labels)\n",
    "\n",
    "print(my_data)\n",
    "\n",
    "print(arr)\n",
    "\n",
    "print(d)"
   ]
  },
  {
   "cell_type": "code",
   "execution_count": 1,
   "metadata": {},
   "outputs": [],
   "source": [
    "import pandas as pd"
   ]
  },
  {
   "cell_type": "code",
   "execution_count": null,
   "metadata": {},
   "outputs": [],
   "source": [
    "# pd. - press tab for related functions"
   ]
  },
  {
   "cell_type": "code",
   "execution_count": 9,
   "metadata": {},
   "outputs": [
    {
     "data": {
      "text/plain": [
       "0    10\n",
       "1    20\n",
       "2    30\n",
       "3    40\n",
       "4    50\n",
       "dtype: int64"
      ]
     },
     "execution_count": 9,
     "metadata": {},
     "output_type": "execute_result"
    }
   ],
   "source": [
    "#### create a new series.\n",
    "### A series takes a wide variety of params. We will focus only on data and index\n",
    "\n",
    "### CREATE A SERIES WITH \"data\" as parameter and passing the list my_data\n",
    "pd.Series(data=my_data)\n"
   ]
  },
  {
   "cell_type": "code",
   "execution_count": 10,
   "metadata": {
    "collapsed": true
   },
   "outputs": [],
   "source": [
    "#### create series with \"data\" parameter from my_data list and index parameter from \"labels\" list\n",
    "my_series=pd.Series(data=my_data,index=labels)\n",
    "\n",
    "#### note the contents of the list \"lablels\" as become the index of the Series my_series"
   ]
  },
  {
   "cell_type": "code",
   "execution_count": 7,
   "metadata": {},
   "outputs": [
    {
     "name": "stdout",
     "output_type": "stream",
     "text": [
      "a    10\n",
      "b    20\n",
      "c    30\n",
      "d    40\n",
      "e    50\n",
      "dtype: int64\n"
     ]
    }
   ],
   "source": [
    "print(my_series)"
   ]
  },
  {
   "cell_type": "code",
   "execution_count": 11,
   "metadata": {},
   "outputs": [
    {
     "name": "stdout",
     "output_type": "stream",
     "text": [
      "a    10\n",
      "b    20\n",
      "c    30\n",
      "d    40\n",
      "e    50\n",
      "dtype: int64\n"
     ]
    }
   ],
   "source": [
    "### another way creating a series \n",
    "my_series1 = pd.Series(my_data,labels)     #### you could also code without data= and index=.\n",
    "print(my_series1)\n",
    "\n",
    "#### NOTE ###### \n",
    "#### note number of items in the object passed for \"data\" argument and\n",
    "#### object passed for \"index\" argument\n",
    "#### should be same. else you will get an error indicating the differences"
   ]
  },
  {
   "cell_type": "code",
   "execution_count": 9,
   "metadata": {
    "collapsed": true
   },
   "outputs": [],
   "source": [
    "###### Difference between Numpy and Series\n",
    "###### unlike numpy array, i have labeled index , i can have one object as an index of another object\n",
    "###### data points or observations can be called using the labled index"
   ]
  },
  {
   "cell_type": "code",
   "execution_count": 12,
   "metadata": {},
   "outputs": [
    {
     "name": "stdout",
     "output_type": "stream",
     "text": [
      "[10 20 30 40 50]\n"
     ]
    },
    {
     "data": {
      "text/plain": [
       "0    10\n",
       "1    20\n",
       "2    30\n",
       "3    40\n",
       "4    50\n",
       "dtype: int32"
      ]
     },
     "execution_count": 12,
     "metadata": {},
     "output_type": "execute_result"
    }
   ],
   "source": [
    "print(arr)\n",
    "\n",
    "#### creating a series by using numpy array. with automatic indexes (no index parameter specified)\n",
    "\n",
    "pd.Series(arr)"
   ]
  },
  {
   "cell_type": "code",
   "execution_count": 15,
   "metadata": {},
   "outputs": [
    {
     "data": {
      "text/plain": [
       "a      (1, 2)\n",
       "b    (aa, bb)\n",
       "c      (3, 4)\n",
       "d    (cc, dd)\n",
       "e    (50, 60)\n",
       "dtype: object"
      ]
     },
     "execution_count": 15,
     "metadata": {},
     "output_type": "execute_result"
    }
   ],
   "source": [
    "#### creating a Series out of a tuple\n",
    "### create my_tup\n",
    "my_tup = ((1,2),('aa','bb'),(3,4),('cc','dd'),(50,60))\n",
    "\n",
    "pd.Series(data=my_tup,index=labels)\n",
    "\n",
    "\n",
    "#### note\n",
    "  ### the indexes and contents of the tuples need to align"
   ]
  },
  {
   "cell_type": "code",
   "execution_count": 16,
   "metadata": {},
   "outputs": [
    {
     "name": "stdout",
     "output_type": "stream",
     "text": [
      "a    10\n",
      "b    20\n",
      "c    30\n",
      "d    40\n",
      "e    50\n",
      "dtype: int32\n"
     ]
    }
   ],
   "source": [
    "#### creating a series by using numpy array and labeled indexes index is the list \"labels\"\n",
    "ser_1 = pd.Series(data=arr,index=labels)\n",
    "print(ser_1)"
   ]
  },
  {
   "cell_type": "code",
   "execution_count": 19,
   "metadata": {},
   "outputs": [
    {
     "name": "stdout",
     "output_type": "stream",
     "text": [
      "0    10\n",
      "1    20\n",
      "2    30\n",
      "3    40\n",
      "4    50\n",
      "dtype: int32\n"
     ]
    }
   ],
   "source": [
    "### if we do not use the index =  parameter\n",
    "ser_2=pd.Series(arr)\n",
    "print(ser_2)\n",
    "### observe that automatic indexes 0,1,2, are being assigned to the values in array arr."
   ]
  },
  {
   "cell_type": "code",
   "execution_count": 23,
   "metadata": {
    "collapsed": true
   },
   "outputs": [],
   "source": [
    "### grabbing values from a series"
   ]
  },
  {
   "cell_type": "code",
   "execution_count": 25,
   "metadata": {},
   "outputs": [
    {
     "data": {
      "text/plain": [
       "a    10\n",
       "b    20\n",
       "c    30\n",
       "d    40\n",
       "e    50\n",
       "dtype: int32"
      ]
     },
     "execution_count": 25,
     "metadata": {},
     "output_type": "execute_result"
    }
   ],
   "source": [
    "ser_1"
   ]
  },
  {
   "cell_type": "code",
   "execution_count": 27,
   "metadata": {},
   "outputs": [
    {
     "name": "stdout",
     "output_type": "stream",
     "text": [
      "10\n"
     ]
    }
   ],
   "source": [
    "print(ser_1[0])"
   ]
  },
  {
   "cell_type": "code",
   "execution_count": 22,
   "metadata": {},
   "outputs": [
    {
     "name": "stdout",
     "output_type": "stream",
     "text": [
      "10\n",
      "10\n"
     ]
    }
   ],
   "source": [
    "## to retrieve a value from ser_1\n",
    "print(ser_1[0])   ### -- since the list \"labels\" acts as index\n",
    "\n",
    "### to retrieve a value from ser_2\n",
    "print(ser_2[0])      ### in this case automatic indexes of python are used to retrieve values"
   ]
  },
  {
   "cell_type": "code",
   "execution_count": null,
   "metadata": {
    "collapsed": true
   },
   "outputs": [],
   "source": []
  },
  {
   "cell_type": "code",
   "execution_count": 28,
   "metadata": {},
   "outputs": [
    {
     "data": {
      "text/plain": [
       "{'key1': 10, 'key2': 20, 'key3': 100, 'key4': 40, 'key5': 50}"
      ]
     },
     "execution_count": 28,
     "metadata": {},
     "output_type": "execute_result"
    }
   ],
   "source": [
    "d"
   ]
  },
  {
   "cell_type": "code",
   "execution_count": 31,
   "metadata": {
    "collapsed": true
   },
   "outputs": [],
   "source": [
    "lab1 = ['anand','nishant','kapil','gerber']"
   ]
  },
  {
   "cell_type": "code",
   "execution_count": 32,
   "metadata": {
    "scrolled": true
   },
   "outputs": [
    {
     "data": {
      "text/plain": [
       "key1     10\n",
       "key2     20\n",
       "key3    100\n",
       "key4     40\n",
       "key5     50\n",
       "dtype: int64"
      ]
     },
     "execution_count": 32,
     "metadata": {},
     "output_type": "execute_result"
    }
   ],
   "source": [
    "#### creating a Series by using dictionary\n",
    "pd.Series(data=d)\n",
    "\n",
    "\n",
    "### note that the keys of dictionary are automatically considered as labels of index."
   ]
  },
  {
   "cell_type": "code",
   "execution_count": 33,
   "metadata": {},
   "outputs": [
    {
     "name": "stdout",
     "output_type": "stream",
     "text": [
      "['lbidx1', 'lbidx2', 'lbidx3', 'lbidx4', 'lbindx5']\n"
     ]
    },
    {
     "data": {
      "text/plain": [
       "anand     NaN\n",
       "nishant   NaN\n",
       "kapil     NaN\n",
       "gerber    NaN\n",
       "dtype: float64"
      ]
     },
     "execution_count": 33,
     "metadata": {},
     "output_type": "execute_result"
    }
   ],
   "source": [
    "#### creating a Series by using dictionary and rename the indexes to another label\n",
    "#### note that the series always defaults to the key of dictionary and any other labelled index \n",
    "##### returns NaN (Not a Number)\n",
    "labindex = ['lbidx1','lbidx2','lbidx3','lbidx4','lbindx5' ]\n",
    "print(labindex)\n",
    "\n",
    "## pd.Series(data=d,index=labindex)\n",
    "\n",
    "### correct way to do it \n",
    "pd.Series(data=d,index=lab1)"
   ]
  },
  {
   "cell_type": "code",
   "execution_count": null,
   "metadata": {
    "collapsed": true
   },
   "outputs": [],
   "source": []
  },
  {
   "cell_type": "code",
   "execution_count": 34,
   "metadata": {},
   "outputs": [
    {
     "data": {
      "text/plain": [
       "0     lbidx1\n",
       "1     lbidx2\n",
       "2     lbidx3\n",
       "3     lbidx4\n",
       "4    lbindx5\n",
       "dtype: object"
      ]
     },
     "execution_count": 34,
     "metadata": {},
     "output_type": "execute_result"
    }
   ],
   "source": [
    "#### a Series can hold any data object of python\n",
    "###### creating a series out of a list of strings in labindex list\n",
    "pd.Series(data=labindex)\n",
    "\n",
    "\n",
    "#### an example of a series which has strings as data "
   ]
  },
  {
   "cell_type": "code",
   "execution_count": 18,
   "metadata": {},
   "outputs": [
    {
     "data": {
      "text/plain": [
       "0      <built-in function sum>\n",
       "1    <built-in function print>\n",
       "2      <built-in function len>\n",
       "dtype: object"
      ]
     },
     "execution_count": 18,
     "metadata": {},
     "output_type": "execute_result"
    }
   ],
   "source": [
    "##### a series with built in functions as data points ...references to built in functions. very rarely used\n",
    "\n",
    "pd.Series(data=[sum,print,len]) "
   ]
  },
  {
   "cell_type": "code",
   "execution_count": 39,
   "metadata": {
    "collapsed": true
   },
   "outputs": [],
   "source": [
    "##### grabbing information from a series using indexes. index look ups\n",
    "#### works like a hash table or a dictionary\n",
    "\n",
    "ser1 = pd.Series(data=[1,2,3,4],index=['dog','cat','lion','tiger'])\n",
    "\n",
    "\n",
    "#### note heere data is 1,2,3 4 and index is dog, cat, lion..etc"
   ]
  },
  {
   "cell_type": "code",
   "execution_count": 20,
   "metadata": {},
   "outputs": [
    {
     "data": {
      "text/plain": [
       "dog      1\n",
       "cat      2\n",
       "lion     3\n",
       "tiger    4\n",
       "dtype: int64"
      ]
     },
     "execution_count": 20,
     "metadata": {},
     "output_type": "execute_result"
    }
   ],
   "source": [
    "ser1    #### list of strings is the index and list of numbers is the data"
   ]
  },
  {
   "cell_type": "code",
   "execution_count": 40,
   "metadata": {
    "collapsed": true
   },
   "outputs": [],
   "source": [
    "ser2 = pd.Series(data=[1,2,5,4,6,100,200],index=['dog','cat','panda','hyena','hen','ostrich','giraffe'])"
   ]
  },
  {
   "cell_type": "code",
   "execution_count": 22,
   "metadata": {},
   "outputs": [
    {
     "data": {
      "text/plain": [
       "dog          1\n",
       "cat          2\n",
       "panda        5\n",
       "hyena        4\n",
       "hen          6\n",
       "ostrich    100\n",
       "giraffe    200\n",
       "dtype: int64"
      ]
     },
     "execution_count": 22,
     "metadata": {},
     "output_type": "execute_result"
    }
   ],
   "source": [
    "ser2"
   ]
  },
  {
   "cell_type": "markdown",
   "metadata": {},
   "source": [
    "EXTRACTING DATA FROM SERIES"
   ]
  },
  {
   "cell_type": "code",
   "execution_count": 42,
   "metadata": {},
   "outputs": [
    {
     "name": "stdout",
     "output_type": "stream",
     "text": [
      "1\n"
     ]
    }
   ],
   "source": [
    "### to grab information from series\n",
    "#### extract 1\n",
    "print(ser1['dog'])      ### in this case the index is a string\n",
    "\n"
   ]
  },
  {
   "cell_type": "code",
   "execution_count": null,
   "metadata": {
    "collapsed": true
   },
   "outputs": [],
   "source": []
  },
  {
   "cell_type": "code",
   "execution_count": 24,
   "metadata": {
    "collapsed": true
   },
   "outputs": [],
   "source": [
    "np_country = np.array(['china','india','senegal','tanzania','nigeria','costa rica','fiji','samoa','indonesia','germany'])"
   ]
  },
  {
   "cell_type": "code",
   "execution_count": 25,
   "metadata": {
    "collapsed": true
   },
   "outputs": [],
   "source": [
    "np_country_labels = np.array(['lab1','lab2','lab3','lab4','lab5','lab6','lab7','lab8','lab9','lab10'])"
   ]
  },
  {
   "cell_type": "code",
   "execution_count": 26,
   "metadata": {
    "collapsed": true
   },
   "outputs": [],
   "source": [
    "ser_country = pd.Series(data=np_country)"
   ]
  },
  {
   "cell_type": "code",
   "execution_count": 27,
   "metadata": {},
   "outputs": [
    {
     "data": {
      "text/plain": [
       "0         china\n",
       "1         india\n",
       "2       senegal\n",
       "3      tanzania\n",
       "4       nigeria\n",
       "5    costa rica\n",
       "6          fiji\n",
       "7         samoa\n",
       "8     indonesia\n",
       "9       germany\n",
       "dtype: object"
      ]
     },
     "execution_count": 27,
     "metadata": {},
     "output_type": "execute_result"
    }
   ],
   "source": [
    "ser_country"
   ]
  },
  {
   "cell_type": "code",
   "execution_count": 57,
   "metadata": {
    "collapsed": true
   },
   "outputs": [],
   "source": [
    "ser_country1 = pd.Series(data=np_country,index=np_country_labels)"
   ]
  },
  {
   "cell_type": "code",
   "execution_count": null,
   "metadata": {
    "collapsed": true
   },
   "outputs": [],
   "source": []
  },
  {
   "cell_type": "code",
   "execution_count": 29,
   "metadata": {},
   "outputs": [
    {
     "name": "stdout",
     "output_type": "stream",
     "text": [
      "china\n",
      "//\n",
      "china\n"
     ]
    }
   ],
   "source": [
    "print(ser_country1.loc['lab1'])\n",
    "print('//')\n",
    "print(ser_country1.iloc[0])"
   ]
  },
  {
   "cell_type": "code",
   "execution_count": 59,
   "metadata": {},
   "outputs": [
    {
     "data": {
      "text/plain": [
       "lab1          china\n",
       "lab2          india\n",
       "lab3        senegal\n",
       "lab4       tanzania\n",
       "lab5        nigeria\n",
       "lab6     costa rica\n",
       "lab7           fiji\n",
       "lab8          samoa\n",
       "lab9      indonesia\n",
       "lab10       germany\n",
       "dtype: object"
      ]
     },
     "execution_count": 59,
     "metadata": {},
     "output_type": "execute_result"
    }
   ],
   "source": [
    "ser_country1"
   ]
  },
  {
   "cell_type": "code",
   "execution_count": null,
   "metadata": {
    "collapsed": true
   },
   "outputs": [],
   "source": []
  },
  {
   "cell_type": "code",
   "execution_count": 31,
   "metadata": {
    "collapsed": true
   },
   "outputs": [],
   "source": [
    "#### Creating a Scalar Series\n",
    "### note 100 is stored for the number of indexes being created\n",
    "series_scalar = pd.Series(data=100,index=['ix1','ix2','ix3','ix4'])"
   ]
  },
  {
   "cell_type": "code",
   "execution_count": 32,
   "metadata": {},
   "outputs": [
    {
     "data": {
      "text/plain": [
       "ix1    100\n",
       "ix2    100\n",
       "ix3    100\n",
       "ix4    100\n",
       "dtype: int64"
      ]
     },
     "execution_count": 32,
     "metadata": {},
     "output_type": "execute_result"
    }
   ],
   "source": [
    "series_scalar"
   ]
  },
  {
   "cell_type": "code",
   "execution_count": null,
   "metadata": {
    "collapsed": true
   },
   "outputs": [],
   "source": []
  },
  {
   "cell_type": "markdown",
   "metadata": {},
   "source": [
    "                                    ACCESSING ELEMENTS IN A SERIES"
   ]
  },
  {
   "cell_type": "code",
   "execution_count": 54,
   "metadata": {},
   "outputs": [
    {
     "data": {
      "text/plain": [
       "dog      1\n",
       "cat      2\n",
       "lion     3\n",
       "tiger    4\n",
       "dtype: int64"
      ]
     },
     "execution_count": 54,
     "metadata": {},
     "output_type": "execute_result"
    }
   ],
   "source": [
    "ser1"
   ]
  },
  {
   "cell_type": "code",
   "execution_count": null,
   "metadata": {
    "collapsed": true
   },
   "outputs": [],
   "source": []
  },
  {
   "cell_type": "code",
   "execution_count": 60,
   "metadata": {},
   "outputs": [
    {
     "data": {
      "text/plain": [
       "lab1          china\n",
       "lab2          india\n",
       "lab3        senegal\n",
       "lab4       tanzania\n",
       "lab5        nigeria\n",
       "lab6     costa rica\n",
       "lab7           fiji\n",
       "lab8          samoa\n",
       "lab9      indonesia\n",
       "lab10       germany\n",
       "dtype: object"
      ]
     },
     "execution_count": 60,
     "metadata": {},
     "output_type": "execute_result"
    }
   ],
   "source": [
    "ser_country1"
   ]
  },
  {
   "cell_type": "code",
   "execution_count": 62,
   "metadata": {},
   "outputs": [
    {
     "data": {
      "text/plain": [
       "lab1      china\n",
       "lab2      india\n",
       "lab3    senegal\n",
       "dtype: object"
      ]
     },
     "execution_count": 62,
     "metadata": {},
     "output_type": "execute_result"
    }
   ],
   "source": [
    "ser_country1.loc['lab1':'lab3']"
   ]
  },
  {
   "cell_type": "code",
   "execution_count": 65,
   "metadata": {},
   "outputs": [
    {
     "data": {
      "text/plain": [
       "0      china\n",
       "1      india\n",
       "2    senegal\n",
       "dtype: object"
      ]
     },
     "execution_count": 65,
     "metadata": {},
     "output_type": "execute_result"
    }
   ],
   "source": [
    "ser_country.iloc[0:3]"
   ]
  },
  {
   "cell_type": "code",
   "execution_count": 67,
   "metadata": {},
   "outputs": [
    {
     "data": {
      "text/plain": [
       "lab1      china\n",
       "lab2      india\n",
       "lab3    senegal\n",
       "dtype: object"
      ]
     },
     "execution_count": 67,
     "metadata": {},
     "output_type": "execute_result"
    }
   ],
   "source": [
    "ser_country1[0:3]"
   ]
  },
  {
   "cell_type": "code",
   "execution_count": null,
   "metadata": {
    "collapsed": true
   },
   "outputs": [],
   "source": []
  },
  {
   "cell_type": "code",
   "execution_count": null,
   "metadata": {
    "collapsed": true
   },
   "outputs": [],
   "source": []
  }
 ],
 "metadata": {
  "kernelspec": {
   "display_name": "Python 3",
   "language": "python",
   "name": "python3"
  },
  "language_info": {
   "codemirror_mode": {
    "name": "ipython",
    "version": 3
   },
   "file_extension": ".py",
   "mimetype": "text/x-python",
   "name": "python",
   "nbconvert_exporter": "python",
   "pygments_lexer": "ipython3",
   "version": "3.7.6"
  }
 },
 "nbformat": 4,
 "nbformat_minor": 2
}
