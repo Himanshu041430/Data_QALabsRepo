{
 "cells": [
  {
   "cell_type": "markdown",
   "metadata": {},
   "source": [
    "#### Binary Search  \n",
    "You have been given a sorted(in ascending order) integer array/list(ARR) of size N and an element X. Write a function to search this element in the given input array/list using 'Binary Search'.   \n",
    "Return the index of the element in the input array/list. In case the element is not present in the array/list, then return -1."
   ]
  },
  {
   "cell_type": "markdown",
   "metadata": {},
   "source": [
    "### Pseudocode\n",
    "Step 1: [INITIALIZE] SET BEG = lower_bound     \n",
    "END = upper_bound, POS = - 1                  \n",
    "\n",
    "Step 2: Repeat Steps 3 and 4 while BEG <=END     \n",
    "\n",
    "Step 3: SET MID = (BEG + END)/2     \n",
    "\n",
    "Step 4: IF A[MID] = VAL   \n",
    "SET POS = MID  \n",
    "PRINT POS   \n",
    "Go to Step 6       \n",
    "\n",
    "ELSE IF A[MID] > VAL   \n",
    "SET END = MID - 1    \n",
    "ELSE    \n",
    "SET BEG = MID + 1    \n",
    "[END OF IF]      \n",
    "[END OF LOOP]      \n",
    "\n",
    "Step 5: IF POS = -1                        \n",
    "PRINT \"VALUE IS NOT PRESENT IN THE ARRAY\"       \n",
    "[END OF IF]            \n",
    "\n",
    "Step 6: EXIT          "
   ]
  },
  {
   "cell_type": "code",
   "execution_count": 8,
   "metadata": {},
   "outputs": [],
   "source": [
    "# random.sample\n",
    "import random\n",
    "li = random.sample(range(10,1000),30)\n",
    "\n",
    "li.sort()\n",
    "ele = random.sample(li,1)[0]"
   ]
  },
  {
   "cell_type": "code",
   "execution_count": 9,
   "metadata": {},
   "outputs": [
    {
     "name": "stdout",
     "output_type": "stream",
     "text": [
      "[32, 134, 235, 264, 286, 291, 374, 384, 390, 450, 489, 543, 576, 587, 591, 603, 607, 677, 693, 732, 761, 790, 801, 803, 853, 916, 958, 963, 990, 991]\n"
     ]
    },
    {
     "data": {
      "text/plain": [
       "587"
      ]
     },
     "execution_count": 9,
     "metadata": {},
     "output_type": "execute_result"
    }
   ],
   "source": [
    "print(li)\n",
    "ele"
   ]
  },
  {
   "cell_type": "code",
   "execution_count": 10,
   "metadata": {},
   "outputs": [
    {
     "name": "stdout",
     "output_type": "stream",
     "text": [
      "13\n"
     ]
    }
   ],
   "source": [
    "# algorithm\n",
    "n = len(li) # storing length of array in n\n",
    "low = 0   # Lower POinter set to 0\n",
    "high = n-1 # Upper POinter set to len-1(as indexing starts from 0)\n",
    "while low <= high:  # if this cond'n is not satisfied means my array does not contain the element \n",
    "    mid = (low+high) // 2   # taking the middle index\n",
    "    if li[mid]==ele:   # case where it's Found\n",
    "        print(mid)\n",
    "        break\n",
    "    elif li[mid] < ele:   # if middle element is smaller then the element to be found , means the element to be found(if exists) lies in the right part of the array (as the array is sorted,the element greater than middle element will lie on the right of it)  \n",
    "        low = mid + 1   # shifted the lower pointer to the right of the middle element\n",
    "    else:  # if middle element is greater then the element to be found , means the element to be found(if exists) lies in the left part of the array (as the array is sorted,the element smaller than middle element will lie on the left of it)  \n",
    "        high = mid - 1   # shifted the Highter pointer to the left of the middle element\n",
    "    ### this iteration of finding middle element and comparing will keep on happening until the element is found OR low > high, which will terminate the loop.\n",
    "else:\n",
    "    print(\"Not Found\")\n"
   ]
  },
  {
   "cell_type": "code",
   "execution_count": 11,
   "metadata": {},
   "outputs": [
    {
     "data": {
      "text/plain": [
       "13"
      ]
     },
     "execution_count": 11,
     "metadata": {},
     "output_type": "execute_result"
    }
   ],
   "source": [
    "li.index(ele)"
   ]
  },
  {
   "cell_type": "markdown",
   "metadata": {},
   "source": [
    "### Bubble Sort"
   ]
  },
  {
   "cell_type": "markdown",
   "metadata": {},
   "source": [
    "### Pseudocode\n",
    "1) In first cycle,    \n",
    "    > Start by comparing 1st and 2nd element and swap if 1st element is greater.   \n",
    "    > After that do the same for 2nd and 3rd element.    \n",
    "    > At the end of cycle you will get max element at the end of list.    \n",
    "2) Now do the same in all subsequent cycles.    \n",
    "3) Perform this for (number of elements – 1) times.    \n",
    "4) You will get sorted list.    \n",
    "\n"
   ]
  },
  {
   "cell_type": "code",
   "execution_count": 11,
   "metadata": {},
   "outputs": [
    {
     "data": {
      "text/plain": [
       "17"
      ]
     },
     "execution_count": 11,
     "metadata": {},
     "output_type": "execute_result"
    }
   ],
   "source": [
    "# swapping on every iteration\n",
    "li = [1,0,1,2,3,43,54,23,44,65,32,76,23,44,81,101,92]\n",
    "\n",
    "n = len(li)\n",
    "n"
   ]
  },
  {
   "cell_type": "code",
   "execution_count": 12,
   "metadata": {},
   "outputs": [
    {
     "data": {
      "text/plain": [
       "[0, 1, 1, 2, 3, 23, 23, 32, 43, 44, 44, 54, 65, 76, 81, 92, 101]"
      ]
     },
     "execution_count": 12,
     "metadata": {},
     "output_type": "execute_result"
    }
   ],
   "source": [
    "# li = [2,0,1,4,3,8,0,5]\n",
    "# n = len(li)\n",
    "for i in range(n-1): # To iterate 'elements-1' times so that each element is swapped and placed in it's right position      \n",
    "    for j in range(n-1-i): # Substracting 1 to remove index out of bound error AND substracting i because in every ith iteration, i elements have already been sorted/arranged      \n",
    "        if li[j] > li[j+1]:  # If previous > Next ...\n",
    "            li[j],li[j+1] = li[j+1],li[j]   # We gotta swap\n",
    "li"
   ]
  },
  {
   "cell_type": "markdown",
   "metadata": {},
   "source": [
    "### Selection Sort"
   ]
  },
  {
   "cell_type": "markdown",
   "metadata": {},
   "source": [
    "1) Find the minimum item in list and swap it with 1st element.   \n",
    "2) Now find the min. item in list excluding 1st item and swap it with 2nd element.   \n",
    "3) Likewise in each cycle exclude already swapped min. items and keep finding min. item in remaining list.     \n",
    "4) Perform such (number of elements – 1) cycles.     \n",
    "5) When remaining list size is 1 you get sorted list.      \n"
   ]
  },
  {
   "cell_type": "code",
   "execution_count": 13,
   "metadata": {},
   "outputs": [],
   "source": [
    "# finding min/max index and placing at right point\n",
    "li = [1,0,1,2,3,43,54,23,44,65,32,76,23,44,81,101,92]\n",
    "\n",
    "n = len(li)\n"
   ]
  },
  {
   "cell_type": "code",
   "execution_count": 14,
   "metadata": {},
   "outputs": [
    {
     "data": {
      "text/plain": [
       "[0, 1, 1, 2, 3, 23, 23, 32, 43, 44, 44, 54, 65, 76, 81, 92, 101]"
      ]
     },
     "execution_count": 14,
     "metadata": {},
     "output_type": "execute_result"
    }
   ],
   "source": [
    "for i in range(0,n-1):  # iterating over 'elements-1' so that we find the right index for every element and place them in the right order   \n",
    "    minindex = i   # taking ith element index as the smallest element index\n",
    "    for j in range(i+1,n):   # iterating from i+1 as 'i-1' elements have been sorted and we want to check from i+1 as to which element is smallest and place it at ith position    \n",
    "        if li[minindex] > li[j]:  # if any element from i+1 to end is greater then ith element, which we assumed to be smallest...\n",
    "            minindex = j  # we change the minindex and as it's inside a loop, we will get the smallest element from i+1 To the end of list and store it in 'minindex' parameter\n",
    "    li[i],li[minindex] = li[minindex],li[i]  # finally we swap the minimum element with the ith position element and obtain sorted list till 'ith' postion...and then continue the cycle                    \n",
    "\n",
    "li"
   ]
  },
  {
   "cell_type": "markdown",
   "metadata": {},
   "source": [
    "### Strings"
   ]
  },
  {
   "cell_type": "code",
   "execution_count": 23,
   "metadata": {},
   "outputs": [
    {
     "data": {
      "text/plain": [
       "'hell'"
      ]
     },
     "execution_count": 23,
     "metadata": {},
     "output_type": "execute_result"
    }
   ],
   "source": [
    "# explain strings\n",
    "s = \"hello\"\n",
    "\n",
    "# explain unicode values of strings\n",
    "ord(\"Z\")\n",
    "\n",
    "s[:4]"
   ]
  },
  {
   "cell_type": "markdown",
   "metadata": {},
   "source": [
    "output"
   ]
  },
  {
   "cell_type": "code",
   "execution_count": 26,
   "metadata": {},
   "outputs": [
    {
     "name": "stdout",
     "output_type": "stream",
     "text": [
      "c\n"
     ]
    }
   ],
   "source": [
    "#1 \n",
    "s = \"abcd\"\n",
    "print(s[-2])"
   ]
  },
  {
   "cell_type": "code",
   "execution_count": 27,
   "metadata": {},
   "outputs": [
    {
     "ename": "TypeError",
     "evalue": "'str' object does not support item assignment",
     "output_type": "error",
     "traceback": [
      "\u001b[1;31m---------------------------------------------------------------------------\u001b[0m",
      "\u001b[1;31mTypeError\u001b[0m                                 Traceback (most recent call last)",
      "\u001b[1;32m<ipython-input-27-d28985e0d8bf>\u001b[0m in \u001b[0;36m<module>\u001b[1;34m\u001b[0m\n\u001b[0;32m      1\u001b[0m \u001b[1;31m# 2\u001b[0m\u001b[1;33m\u001b[0m\u001b[1;33m\u001b[0m\u001b[1;33m\u001b[0m\u001b[0m\n\u001b[0;32m      2\u001b[0m \u001b[0ms\u001b[0m\u001b[1;33m=\u001b[0m\u001b[1;34m\"abcd\"\u001b[0m\u001b[1;33m\u001b[0m\u001b[1;33m\u001b[0m\u001b[0m\n\u001b[1;32m----> 3\u001b[1;33m \u001b[0ms\u001b[0m\u001b[1;33m[\u001b[0m\u001b[1;36m0\u001b[0m\u001b[1;33m]\u001b[0m\u001b[1;33m=\u001b[0m\u001b[1;34m'c'\u001b[0m\u001b[1;33m\u001b[0m\u001b[1;33m\u001b[0m\u001b[0m\n\u001b[0m\u001b[0;32m      4\u001b[0m \u001b[0mprint\u001b[0m\u001b[1;33m(\u001b[0m\u001b[0ms\u001b[0m\u001b[1;33m)\u001b[0m\u001b[1;33m\u001b[0m\u001b[1;33m\u001b[0m\u001b[0m\n",
      "\u001b[1;31mTypeError\u001b[0m: 'str' object does not support item assignment"
     ]
    }
   ],
   "source": [
    "# 2\n",
    "s=\"abcd\"\n",
    "s[0]='c'\n",
    "print(s) "
   ]
  },
  {
   "cell_type": "code",
   "execution_count": 28,
   "metadata": {},
   "outputs": [
    {
     "name": "stdout",
     "output_type": "stream",
     "text": [
      "They are same\n"
     ]
    }
   ],
   "source": [
    "# 3\n",
    "s =\"abcd\"\n",
    "a = \"abcd\"\n",
    "if id(s) == id(a):\n",
    "    print(\"They are same\")\n",
    "else:\n",
    "    print(\"They are not same\")"
   ]
  },
  {
   "cell_type": "code",
   "execution_count": 31,
   "metadata": {},
   "outputs": [
    {
     "name": "stdout",
     "output_type": "stream",
     "text": [
      "abcdef\n"
     ]
    }
   ],
   "source": [
    "# 4\n",
    "s = \"abcd\"\n",
    "b = s + \"ef\"\n",
    "print(s)"
   ]
  },
  {
   "cell_type": "code",
   "execution_count": 34,
   "metadata": {},
   "outputs": [
    {
     "name": "stdout",
     "output_type": "stream",
     "text": [
      "abcd2\n"
     ]
    }
   ],
   "source": [
    "# 5\n",
    "s = \"abcd\"\n",
    "b = s + \"2\"\n",
    "print(b)"
   ]
  },
  {
   "cell_type": "markdown",
   "metadata": {},
   "source": [
    "String slicing"
   ]
  },
  {
   "cell_type": "code",
   "execution_count": 35,
   "metadata": {},
   "outputs": [
    {
     "data": {
      "text/plain": [
       "'llo Fr'"
      ]
     },
     "execution_count": 35,
     "metadata": {},
     "output_type": "execute_result"
    }
   ],
   "source": [
    "s = \"Hello Friend\"\n",
    "s[2:8]"
   ]
  },
  {
   "cell_type": "code",
   "execution_count": null,
   "metadata": {},
   "outputs": [],
   "source": []
  },
  {
   "cell_type": "code",
   "execution_count": 36,
   "metadata": {},
   "outputs": [
    {
     "name": "stdout",
     "output_type": "stream",
     "text": [
      "cdef\n"
     ]
    }
   ],
   "source": [
    "# 6\n",
    "s = \"abcdef\"\n",
    "print (s[2:])"
   ]
  },
  {
   "cell_type": "code",
   "execution_count": 38,
   "metadata": {},
   "outputs": [
    {
     "name": "stdout",
     "output_type": "stream",
     "text": [
      "ed\n"
     ]
    }
   ],
   "source": [
    "# 7\n",
    "s = \"abcdef\"\n",
    "\n",
    "print (s[4:2:-1]) # start,stop,step\n"
   ]
  },
  {
   "cell_type": "markdown",
   "metadata": {},
   "source": [
    "Iterating on strings"
   ]
  },
  {
   "cell_type": "code",
   "execution_count": 40,
   "metadata": {
    "scrolled": true
   },
   "outputs": [
    {
     "name": "stdout",
     "output_type": "stream",
     "text": [
      "H\n",
      "e\n",
      "l\n",
      "l\n",
      "o\n",
      " \n",
      "f\n",
      "r\n",
      "i\n",
      "e\n",
      "n\n",
      "d\n",
      " \n",
      "i\n",
      " \n",
      "a\n",
      "m\n",
      " \n"
     ]
    }
   ],
   "source": [
    "for char in \"Hello friend i am \":\n",
    "    print(char)"
   ]
  },
  {
   "cell_type": "markdown",
   "metadata": {},
   "source": [
    "Output"
   ]
  },
  {
   "cell_type": "code",
   "execution_count": 41,
   "metadata": {},
   "outputs": [
    {
     "name": "stdout",
     "output_type": "stream",
     "text": [
      "False\n"
     ]
    }
   ],
   "source": [
    "# 1\n",
    "a = \"abcdef\" == \"abcd\"\n",
    "print(a)"
   ]
  },
  {
   "cell_type": "code",
   "execution_count": 13,
   "metadata": {},
   "outputs": [
    {
     "name": "stdout",
     "output_type": "stream",
     "text": [
      "True\n"
     ]
    }
   ],
   "source": [
    "# 2\n",
    "a = \"abcdef\" >= \"abcd\"\n",
    "print(a)"
   ]
  },
  {
   "cell_type": "code",
   "execution_count": 43,
   "metadata": {},
   "outputs": [
    {
     "name": "stdout",
     "output_type": "stream",
     "text": [
      "True\n"
     ]
    },
    {
     "data": {
      "text/plain": [
       "(101, 100)"
      ]
     },
     "execution_count": 43,
     "metadata": {},
     "output_type": "execute_result"
    }
   ],
   "source": [
    "# 3\n",
    "a = \"abce\" >= \"abcdef\"\n",
    "print(a)\n",
    "ord('e'),ord('d')"
   ]
  },
  {
   "cell_type": "markdown",
   "metadata": {},
   "source": [
    "### Questions"
   ]
  },
  {
   "cell_type": "markdown",
   "metadata": {},
   "source": [
    "Q - Remove Consecutive Duplicates for a given string. \n",
    "\n",
    "Input String: \"aaaa\"    \n",
    "Expected Output: \"a\"      \n",
    "\n",
    "Input String: \"aabbbcc\"      \n",
    "Expected Output: \"abc\"     \n"
   ]
  },
  {
   "cell_type": "code",
   "execution_count": 46,
   "metadata": {},
   "outputs": [
    {
     "data": {
      "text/plain": [
       "'abc'"
      ]
     },
     "execution_count": 46,
     "metadata": {},
     "output_type": "execute_result"
    }
   ],
   "source": [
    "#soln\n",
    "s = \"aabbcc\"\n",
    "t = \"\"\n",
    "for char in s:\n",
    "    if char in t:\n",
    "        continue\n",
    "    t += char\n",
    "    \n",
    "    \n",
    "t"
   ]
  },
  {
   "cell_type": "markdown",
   "metadata": {},
   "source": [
    "### Inbuilt string functions"
   ]
  },
  {
   "cell_type": "markdown",
   "metadata": {},
   "source": [
    "Inbuilt functions in String.     \n",
    "\n",
    "(isalnum(),isalpha(),isdigit(),istitle(),isupper(),islower(),isspace(),endswith(),startswith())"
   ]
  },
  {
   "cell_type": "code",
   "execution_count": 67,
   "metadata": {},
   "outputs": [
    {
     "data": {
      "text/plain": [
       "True"
      ]
     },
     "execution_count": 67,
     "metadata": {},
     "output_type": "execute_result"
    }
   ],
   "source": [
    "s = \"dev123\"\n",
    "s.isalnum()\n",
    "s = \"Dev1234\"\n",
    "s.startswith(\"D\")"
   ]
  },
  {
   "cell_type": "code",
   "execution_count": 70,
   "metadata": {},
   "outputs": [
    {
     "name": "stdout",
     "output_type": "stream",
     "text": [
      "My name is Devansh and i code in Python\n"
     ]
    }
   ],
   "source": [
    "a = \"Devansh\"\n",
    "b = \"Python\"\n",
    "print(\"My name is {} and i code in {}\".format(a,b))"
   ]
  },
  {
   "cell_type": "markdown",
   "metadata": {},
   "source": [
    "### Home-Work"
   ]
  },
  {
   "cell_type": "markdown",
   "metadata": {},
   "source": [
    " Q - Check Palindrome string"
   ]
  },
  {
   "cell_type": "code",
   "execution_count": null,
   "metadata": {},
   "outputs": [],
   "source": [
    "# soln\n",
    "\n"
   ]
  },
  {
   "cell_type": "markdown",
   "metadata": {},
   "source": [
    "Q - Check Permutation   \n",
    "Two strings are said to be a permutation of each other when either of the string's characters can be rearranged so that it becomes identical to the other one.    \n",
    "\n",
    "\n",
    "Example:     \n",
    "str1= \"sinrtg\"    \n",
    "str2 = \"string\"    \n",
    "\n",
    "The character of the first string(str1) can be rearranged to form str2 and hence we can say that the given strings are a permutation of each other."
   ]
  },
  {
   "cell_type": "code",
   "execution_count": null,
   "metadata": {},
   "outputs": [],
   "source": [
    "#soln \n"
   ]
  },
  {
   "cell_type": "markdown",
   "metadata": {},
   "source": [
    "Q - Count vowels , consonants and digits in a string and print them too.   \n",
    "\n",
    "Example:    \n",
    "(Inputted string) s = \" My Name is 123 \"\n",
    "\n",
    "Output  -    \n",
    "Consonants - 5    \n",
    "Vowels - 3   \n",
    "Digits - 3     "
   ]
  },
  {
   "cell_type": "code",
   "execution_count": 63,
   "metadata": {},
   "outputs": [],
   "source": [
    "#soln \n",
    "\n"
   ]
  },
  {
   "cell_type": "markdown",
   "metadata": {},
   "source": [
    "Q - Remove Every Occurence of a specific character from a string.   \n",
    "\n",
    "Sample Input 1: \n",
    "  \n",
    "aabccbaa    \n",
    "a     \n",
    "\n",
    "\n",
    "Sample Output 1:    \n",
    "bccb  "
   ]
  },
  {
   "cell_type": "code",
   "execution_count": 64,
   "metadata": {},
   "outputs": [],
   "source": [
    "# soln\n",
    "\n",
    "\n"
   ]
  },
  {
   "cell_type": "markdown",
   "metadata": {},
   "source": [
    "Q - Highest Occuring Character   \n",
    "For a given a string(str), find and return the highest occurring character.    \n",
    "     \n",
    "     \n",
    "Input String: \"abcdeapapqarr\"     \n",
    "Expected Output: 'a'        \n",
    "Since 'a' has appeared four times in the string which happens to be the highest frequency character, the answer would be 'a'."
   ]
  },
  {
   "cell_type": "code",
   "execution_count": 65,
   "metadata": {},
   "outputs": [],
   "source": [
    "# soln\n",
    "\n"
   ]
  },
  {
   "cell_type": "markdown",
   "metadata": {},
   "source": [
    "Q - Reverse Each Word    \n",
    "Input Sentence: \"Hello, I am Aadil!\"     \n",
    "The expected output will print --> \",olleH I ma !lidaA\".    "
   ]
  },
  {
   "cell_type": "code",
   "execution_count": null,
   "metadata": {},
   "outputs": [],
   "source": [
    "# soln\n",
    "\n"
   ]
  },
  {
   "cell_type": "markdown",
   "metadata": {},
   "source": []
  }
 ],
 "metadata": {
  "kernelspec": {
   "display_name": "Python 3",
   "language": "python",
   "name": "python3"
  },
  "language_info": {
   "codemirror_mode": {
    "name": "ipython",
    "version": 3
   },
   "file_extension": ".py",
   "mimetype": "text/x-python",
   "name": "python",
   "nbconvert_exporter": "python",
   "pygments_lexer": "ipython3",
   "version": "3.7.6"
  }
 },
 "nbformat": 4,
 "nbformat_minor": 4
}
